{
  "cells": [
    {
      "cell_type": "markdown",
      "metadata": {
        "id": "QQpbdh8Mkb0y"
      },
      "source": [
        "# **Mounting Drive**"
      ]
    },
    {
      "cell_type": "code",
      "execution_count": null,
      "metadata": {
        "colab": {
          "base_uri": "https://localhost:8080/"
        },
        "id": "NNRQVIl56fhz",
        "outputId": "014712d9-916b-4120-891c-35b13943803d"
      },
      "outputs": [
        {
          "output_type": "stream",
          "name": "stdout",
          "text": [
            "Mounted at /content/drive\n"
          ]
        }
      ],
      "source": [
        "from google.colab import drive\n",
        "drive.mount('/content/drive')"
      ]
    },
    {
      "cell_type": "code",
      "execution_count": null,
      "metadata": {
        "id": "o7R-Ue5v6l_O"
      },
      "outputs": [],
      "source": [
        "data_path = \"/content/drive/MyDrive/apple_dataset\""
      ]
    },
    {
      "cell_type": "code",
      "execution_count": null,
      "metadata": {
        "id": "QbUvz39k64wC"
      },
      "outputs": [],
      "source": [
        "train_dir = \"/content/drive/MyDrive/apple_dataset/train/\"\n",
        "val_dir = \"/content/drive/MyDrive/apple_dataset/val/\"\n",
        "test_dir = \"/content/drive/MyDrive/apple_dataset/test/\""
      ]
    },
    {
      "cell_type": "markdown",
      "metadata": {
        "id": "ESdWyeUMYe5D"
      },
      "source": [
        "# **Directory Creation**"
      ]
    },
    {
      "cell_type": "code",
      "execution_count": null,
      "metadata": {
        "id": "EngERkPy7ZzI"
      },
      "outputs": [],
      "source": [
        "import os\n",
        "import shutil"
      ]
    },
    {
      "cell_type": "code",
      "execution_count": null,
      "metadata": {
        "id": "--1Nqf5G7TvQ"
      },
      "outputs": [],
      "source": [
        "for directory in [val_dir]:\n",
        "    for subdirectory in [\"ripe\", \"overripe\", \"unripe\"]:\n",
        "        subdir_path = os.path.join(directory, subdirectory)\n",
        "        if not os.path.exists(subdir_path):\n",
        "            os.makedirs(subdir_path)"
      ]
    },
    {
      "cell_type": "code",
      "execution_count": null,
      "metadata": {
        "id": "KwVrVtDH7nqX"
      },
      "outputs": [],
      "source": [
        "num_validation_images = 50"
      ]
    },
    {
      "cell_type": "code",
      "execution_count": null,
      "metadata": {
        "id": "AoJuBLzu-04C"
      },
      "outputs": [],
      "source": [
        "for subdirectory in [\"ripe\", \"overripe\", \"unripe\"]:\n",
        "    src_dir = os.path.join(train_dir, subdirectory)\n",
        "    val_subdir_path = os.path.join(val_dir, subdirectory)\n",
        "    for i, filename in enumerate(os.listdir(src_dir)):\n",
        "        if i < num_validation_images:\n",
        "            src_path = os.path.join(src_dir, filename)\n",
        "            dst_path = os.path.join(val_subdir_path, filename)\n",
        "            shutil.move(src_path, dst_path)"
      ]
    },
    {
      "cell_type": "markdown",
      "metadata": {
        "id": "DSv65wXgYolq"
      },
      "source": [
        "# **Importing Libraries**"
      ]
    },
    {
      "cell_type": "code",
      "execution_count": null,
      "metadata": {
        "id": "iiTCXVFNBhxu"
      },
      "outputs": [],
      "source": [
        "import cv2\n",
        "import os\n",
        "import glob\n",
        "import numpy as np\n",
        "from tensorflow.keras.preprocessing.image import load_img, img_to_array\n",
        "from keras.preprocessing.image import ImageDataGenerator\n",
        "from keras.utils import to_categorical\n",
        "import matplotlib.pyplot as plt\n",
        "import seaborn as sns\n",
        "from PIL import Image"
      ]
    },
    {
      "cell_type": "markdown",
      "source": [
        "### **Subdirectories of Train Directory**"
      ],
      "metadata": {
        "id": "rtBF_pcNVpWK"
      }
    },
    {
      "cell_type": "code",
      "execution_count": null,
      "metadata": {
        "id": "uGL9xAtSFXCI"
      },
      "outputs": [],
      "source": [
        "ripe_img_dir = \"/content/drive/MyDrive/apple_dataset/train/ripe/\"\n",
        "overripe_img_dir = \"/content/drive/MyDrive/apple_dataset/train/overripe/\"\n",
        "unripe_img_dir = \"/content/drive/MyDrive/apple_dataset/train/unripe/\"\n",
        "label_map = {\"ripe\": 0, \"unripe\": 1, \"overripe\": 2}"
      ]
    },
    {
      "cell_type": "markdown",
      "source": [
        "### **Subdirectories of Test Directory**"
      ],
      "metadata": {
        "id": "VfnGFkFfV14-"
      }
    },
    {
      "cell_type": "code",
      "source": [
        "test_ripe_img_dir = \"/content/drive/MyDrive/apple_dataset/test/ripe/\"\n",
        "test_overripe_img_dir = \"/content/drive/MyDrive/apple_dataset/test/overripe/\"\n",
        "test_unripe_img_dir = \"/content/drive/MyDrive/apple_dataset/test/unripe/\""
      ],
      "metadata": {
        "id": "iCCno26EWCk-"
      },
      "execution_count": null,
      "outputs": []
    },
    {
      "cell_type": "markdown",
      "source": [
        "### **Subdirectories of Val Directory**"
      ],
      "metadata": {
        "id": "l2qlwN0-V2et"
      }
    },
    {
      "cell_type": "code",
      "source": [
        "val_ripe_img_dir = \"/content/drive/MyDrive/apple_dataset/val/ripe/\"\n",
        "val_overripe_img_dir = \"/content/drive/MyDrive/apple_dataset/val/overripe/\"\n",
        "val_unripe_img_dir = \"/content/drive/MyDrive/apple_dataset/val/unripe/\""
      ],
      "metadata": {
        "id": "RxTWeGzwWY-l"
      },
      "execution_count": null,
      "outputs": []
    },
    {
      "cell_type": "markdown",
      "metadata": {
        "id": "-0tddrfAV_0s"
      },
      "source": [
        "# **Image Pre-processing for Train Images**"
      ]
    },
    {
      "cell_type": "code",
      "execution_count": null,
      "metadata": {
        "id": "6pQWVccQG5lW"
      },
      "outputs": [],
      "source": [
        "ripe_images = []\n",
        "ripe_labels = []\n",
        "i=0\n",
        "for img in glob.glob(ripe_img_dir + \"/*.jpg\"):\n",
        "                label = label_map[\"ripe\"]\n",
        "                image = cv2.imread(img)\n",
        "                img = cv2.resize(image, (224, 224), interpolation=cv2.INTER_AREA)\n",
        "                img = cv2.cvtColor(img, cv2.COLOR_BGR2RGB)\n",
        "                cv2.imwrite(\"/content/drive/MyDrive/apple_dataset/train/ripe/resized/image%04i.jpg\" %i, img)\n",
        "                # save_path = (\"/content/drive/MyDrive/apple_dataset/save\")\n",
        "                # cv2.imwrite(save_path, img)\n",
        "                ripe_images.append(img)\n",
        "                ripe_labels.append(int(label))\n",
        "\n",
        "                i+=1\n",
        "cv2.destroyAllWindows()\n",
        "\n",
        "    # return np.array(ripe_images), np.array(ripe_labels)"
      ]
    },
    {
      "cell_type": "code",
      "execution_count": null,
      "metadata": {
        "id": "bRDl8gNDIp0t"
      },
      "outputs": [],
      "source": [
        "# ripe_images, ripe_labels = load_images(ripe_img_dir)"
      ]
    },
    {
      "cell_type": "code",
      "execution_count": null,
      "metadata": {
        "id": "RJPuBNmpQwGQ"
      },
      "outputs": [],
      "source": [
        "# np.savez(\"ripe_preprocessed_images.npz\", images=ripe_images, labels=ripe_labels)"
      ]
    },
    {
      "cell_type": "code",
      "execution_count": null,
      "metadata": {
        "id": "j6Ir-UfxVeNM"
      },
      "outputs": [],
      "source": [
        "# data = np.load(\"ripe_preprocessed_images.npz\")\n",
        "# images = data[\"images\"]\n",
        "# labels = data[\"labels\"]"
      ]
    },
    {
      "cell_type": "code",
      "execution_count": null,
      "metadata": {
        "id": "z4eBhq_uV9TO"
      },
      "outputs": [],
      "source": [
        "def load_images(overripe_img_dir):\n",
        "    overripe_images = []\n",
        "    overripe_labels = []\n",
        "    i=0\n",
        "    for img in glob.glob(overripe_img_dir + \"/*.jpg\"):\n",
        "                label = label_map[\"overripe\"]\n",
        "                image = cv2.imread(img)\n",
        "                img = cv2.resize(image, (224, 224), interpolation=cv2.INTER_AREA)\n",
        "                img = cv2.cvtColor(img, cv2.COLOR_BGR2RGB)\n",
        "                overripe_images.append(img)\n",
        "                overripe_labels.append(int(label))\n",
        "                i+=1\n",
        "    return np.array(overripe_images), np.array(overripe_labels)"
      ]
    },
    {
      "cell_type": "code",
      "execution_count": null,
      "metadata": {
        "id": "rcm0Y2tAWzme"
      },
      "outputs": [],
      "source": [
        "# overripe_images, overripe_labels = load_images(overripe_img_dir)"
      ]
    },
    {
      "cell_type": "code",
      "execution_count": null,
      "metadata": {
        "id": "jmtfy52vW28O"
      },
      "outputs": [],
      "source": [
        "# np.savez(\"overripe_preprocessed_images.npz\", images=overripe_images, labels=overripe_labels)"
      ]
    },
    {
      "cell_type": "code",
      "execution_count": null,
      "metadata": {
        "id": "7AMapxUuW9ZQ"
      },
      "outputs": [],
      "source": [
        "# data = np.load(\"overripe_preprocessed_images.npz\")\n",
        "# images = data[\"images\"]\n",
        "# labels = data[\"labels\"]"
      ]
    },
    {
      "cell_type": "code",
      "execution_count": null,
      "metadata": {
        "id": "4e0eb_hAXny0"
      },
      "outputs": [],
      "source": [
        "def load_images(unripe_img_dir):\n",
        "    unripe_images = []\n",
        "    unripe_labels = []\n",
        "    i=0\n",
        "    for img in glob.glob(unripe_img_dir + \"/*.jpg\"):\n",
        "                label = label_map[\"uripe\"]\n",
        "                image = cv2.imread(img)\n",
        "                img = cv2.resize(image, (224, 224), interpolation=cv2.INTER_AREA)\n",
        "                img = cv2.cvtColor(img, cv2.COLOR_BGR2RGB)\n",
        "                unripe_images.append(img)\n",
        "                unripe_labels.append(int(label))\n",
        "                i+=1\n",
        "\n",
        "    return np.array(unripe_images), np.array(unripe_labels)"
      ]
    },
    {
      "cell_type": "code",
      "execution_count": null,
      "metadata": {
        "id": "aZI_QXDwXw85"
      },
      "outputs": [],
      "source": [
        "# unripe_images, unripe_labels = load_images(unripe_img_dir)"
      ]
    },
    {
      "cell_type": "code",
      "execution_count": null,
      "metadata": {
        "id": "maAW2CTgXzbU"
      },
      "outputs": [],
      "source": [
        "# np.savez(\"unripe_preprocessed_images.npz\", images=unripe_images, labels=unripe_labels)"
      ]
    },
    {
      "cell_type": "code",
      "execution_count": null,
      "metadata": {
        "id": "HD2I1I6pX1p5"
      },
      "outputs": [],
      "source": [
        "# data = np.load(\"unripe_preprocessed_images.npz\")\n",
        "# images = data[\"images\"]\n",
        "# labels = data[\"labels\"]"
      ]
    },
    {
      "cell_type": "markdown",
      "source": [
        "# **Image Pre-processing for Test Images**"
      ],
      "metadata": {
        "id": "5Ahg8Mv-Yn7m"
      }
    },
    {
      "cell_type": "markdown",
      "source": [
        "### **Ripe**"
      ],
      "metadata": {
        "id": "dcbvJBTCU-zv"
      }
    },
    {
      "cell_type": "code",
      "source": [
        "def load_images(test_ripe_img_dir):\n",
        "    test_ripe_images = []\n",
        "    test_ripe_labels = []\n",
        "    i=0\n",
        "    for img in glob.glob(test_ripe_img_dir + \"/*.jpg\"):\n",
        "                label = label_map[\"ripe\"]\n",
        "                image = cv2.imread(img)\n",
        "                img = cv2.resize(image, (224, 224), interpolation=cv2.INTER_AREA)\n",
        "                img = cv2.cvtColor(img, cv2.COLOR_BGR2RGB)\n",
        "                test_ripe_images.append(img)\n",
        "                test_ripe_labels.append(int(label))\n",
        "                i+=1\n",
        "    return np.array(test_ripe_images), np.array(test_ripe_labels)"
      ],
      "metadata": {
        "id": "AYerPVfCYzrw"
      },
      "execution_count": null,
      "outputs": []
    },
    {
      "cell_type": "code",
      "source": [
        "# np.savez(\"test_ripe_preprocessed_images.npz\", images=test_ripe_images, labels=test_ripe_labels)"
      ],
      "metadata": {
        "id": "CwoN7_HTZaCK"
      },
      "execution_count": null,
      "outputs": []
    },
    {
      "cell_type": "markdown",
      "source": [
        "### **Overripe**"
      ],
      "metadata": {
        "id": "nLB0V_EmVEHv"
      }
    },
    {
      "cell_type": "code",
      "source": [
        "def load_images(test_overripe_img_dir):\n",
        "    test_overripe_images = []\n",
        "    test_overripe_labels = []\n",
        "    i=0\n",
        "    for img in glob.glob(test_overripe_img_dir + \"/*.jpg\"):\n",
        "                label = label_map[\"overripe\"]\n",
        "                image = cv2.imread(img)\n",
        "                img = cv2.resize(image, (224, 224), interpolation=cv2.INTER_AREA)\n",
        "                img = cv2.cvtColor(img, cv2.COLOR_BGR2RGB)\n",
        "                test_overripe_images.append(img)\n",
        "                test_overripe_labels.append(int(label))\n",
        "                i+=1\n",
        "    return np.array(test_overripe_images), np.array(test_overripe_labels)"
      ],
      "metadata": {
        "id": "fSat4983Zg1j"
      },
      "execution_count": null,
      "outputs": []
    },
    {
      "cell_type": "code",
      "source": [
        "# np.savez(\"test_overripe_preprocessed_images.npz\", images=test_overripe_images, labels=test_overripe_labels)"
      ],
      "metadata": {
        "id": "cYgELk6eZ3Xf"
      },
      "execution_count": null,
      "outputs": []
    },
    {
      "cell_type": "markdown",
      "source": [
        "### **Unripe**"
      ],
      "metadata": {
        "id": "UCDE78iVVKDl"
      }
    },
    {
      "cell_type": "code",
      "source": [
        "def load_images(test_unripe_img_dir):\n",
        "    test_unripe_images = []\n",
        "    test_unripe_labels = []\n",
        "    i=0\n",
        "    for img in glob.glob(test_unripe_img_dir + \"/*.jpg\"):\n",
        "                label = label_map[\"unripe\"]\n",
        "                image = cv2.imread(img)\n",
        "                img = cv2.resize(image, (224, 224), interpolation=cv2.INTER_AREA)\n",
        "                img = cv2.cvtColor(img, cv2.COLOR_BGR2RGB)\n",
        "                test_unripe_images.append(img)\n",
        "                test_unripe_labels.append(int(label))\n",
        "                i+=1\n",
        "    return np.array(test_unripe_images), np.array(test_unripe_labels)"
      ],
      "metadata": {
        "id": "0etd5XLHZ6Gy"
      },
      "execution_count": null,
      "outputs": []
    },
    {
      "cell_type": "code",
      "source": [
        "# np.savez(\"test_unripe_preprocessed_images.npz\", images=test_unripe_images, labels=test_unripe_labels)"
      ],
      "metadata": {
        "id": "FosKkhwvZ_fL"
      },
      "execution_count": null,
      "outputs": []
    },
    {
      "cell_type": "markdown",
      "source": [
        "# **Image Pre-processing for Validation Images**"
      ],
      "metadata": {
        "id": "LyR5rG9Wn3Mb"
      }
    },
    {
      "cell_type": "markdown",
      "source": [
        "### **Ripe**"
      ],
      "metadata": {
        "id": "lcw--XIQUuOx"
      }
    },
    {
      "cell_type": "code",
      "source": [
        "def load_images(val_ripe_img_dir):\n",
        "    val_ripe_images = []\n",
        "    val_ripe_labels = []\n",
        "    i=0\n",
        "    for img in glob.glob(val_ripe_img_dir + \"/*.jpg\"):\n",
        "                label = label_map[\"ripe\"]\n",
        "                image = cv2.imread(img)\n",
        "                img = cv2.resize(image, (224, 224), interpolation=cv2.INTER_AREA)\n",
        "                img = cv2.cvtColor(img, cv2.COLOR_BGR2RGB)\n",
        "                val_ripe_images.append(img)\n",
        "                val_ripe_labels.append(int(label))\n",
        "                i+=1\n",
        "    return np.array(val_ripe_images), np.array(val_ripe_labels)"
      ],
      "metadata": {
        "id": "9fM94L_2n-Vv"
      },
      "execution_count": null,
      "outputs": []
    },
    {
      "cell_type": "code",
      "source": [
        "# np.savez(\"val_ripe_preprocessed_images.npz\", images=val_ripe_images, labels=val_ripe_labels)"
      ],
      "metadata": {
        "id": "RPKAoZuHocvh"
      },
      "execution_count": null,
      "outputs": []
    },
    {
      "cell_type": "markdown",
      "source": [
        "### **Overripe**"
      ],
      "metadata": {
        "id": "dw_fOCkyU29C"
      }
    },
    {
      "cell_type": "code",
      "source": [
        "def load_images(val_overripe_img_dir):\n",
        "    val_overripe_images = []\n",
        "    val_overripe_labels = []\n",
        "    i=0\n",
        "    for img in glob.glob(val_overripe_img_dir + \"/*.jpg\"):\n",
        "                label = label_map[\"overripe\"]\n",
        "                image = cv2.imread(img)\n",
        "                img = cv2.resize(image, (224, 224), interpolation=cv2.INTER_AREA)\n",
        "                img = cv2.cvtColor(img, cv2.COLOR_BGR2RGB)\n",
        "                val_overripe_images.append(img)\n",
        "                val_overripe_labels.append(int(label))\n",
        "                i+=1\n",
        "    return np.array(val_overripe_images), np.array(val_overripe_labels)"
      ],
      "metadata": {
        "id": "KCVzCQoyog7u"
      },
      "execution_count": null,
      "outputs": []
    },
    {
      "cell_type": "code",
      "source": [
        "# np.savez(\"val_overripe_preprocessed_images.npz\", images=val_overripe_images, labels=val_overripe_labels)"
      ],
      "metadata": {
        "id": "LnvsA1i6pKS6"
      },
      "execution_count": null,
      "outputs": []
    },
    {
      "cell_type": "markdown",
      "source": [
        "### **Unripe**"
      ],
      "metadata": {
        "id": "6L-iPMw4Vsrx"
      }
    },
    {
      "cell_type": "code",
      "source": [
        "def load_images(val_unripe_img_dir):\n",
        "    val_unripe_images = []\n",
        "    val_unripe_labels = []\n",
        "    i=0\n",
        "    for img in glob.glob(val_unripe_img_dir + \"/*.jpg\"):\n",
        "                label = label_map[\"unripe\"]\n",
        "                image = cv2.imread(img)\n",
        "                img = cv2.resize(image, (224, 224), interpolation=cv2.INTER_AREA)\n",
        "                img = cv2.cvtColor(img, cv2.COLOR_BGR2RGB)\n",
        "                val_unripe_images.append(img)\n",
        "                val_unripe_labels.append(int(label))\n",
        "                i+=1\n",
        "    return np.array(val_unripe_images), np.array(val_unripe_labels)"
      ],
      "metadata": {
        "id": "k1flPZOyqB0J"
      },
      "execution_count": null,
      "outputs": []
    },
    {
      "cell_type": "code",
      "source": [
        "# np.savez(\"val_unripe_preprocessed_images.npz\", images=val_unripe_images, labels=val_unripe_labels)"
      ],
      "metadata": {
        "id": "LY_xRB-oqMdd"
      },
      "execution_count": null,
      "outputs": []
    },
    {
      "cell_type": "markdown",
      "source": [
        "# **Image Review**"
      ],
      "metadata": {
        "id": "VCzMBeFdTUxl"
      }
    },
    {
      "cell_type": "code",
      "source": [
        "img = load_img(\"/content/drive/MyDrive/apple_dataset/train/ripe/r0_287.jpg\")\n",
        "plt.imshow(img)\n",
        "plt.axis(\"on\")\n",
        "plt.show()"
      ],
      "metadata": {
        "colab": {
          "base_uri": "https://localhost:8080/",
          "height": 435
        },
        "id": "IMuwLj_tQeRW",
        "outputId": "335ca052-ce61-4c6b-ed9a-01f22ec1664c"
      },
      "execution_count": null,
      "outputs": [
        {
          "output_type": "display_data",
          "data": {
            "text/plain": [
              "<Figure size 640x480 with 1 Axes>"
            ],
            "image/png": "[encoded data removed]"
          },
          "metadata": {}
        }
      ]
    },
    {
      "cell_type": "code",
      "source": [
        "img = img_to_array(img)\n",
        "img.shape"
      ],
      "metadata": {
        "colab": {
          "base_uri": "https://localhost:8080/"
        },
        "id": "_CwKrig6TQ_W",
        "outputId": "e3e832ab-db91-41a7-9fa2-508a5ae3170b"
      },
      "execution_count": null,
      "outputs": [
        {
          "output_type": "execute_result",
          "data": {
            "text/plain": [
              "(422, 462, 3)"
            ]
          },
          "metadata": {},
          "execution_count": 77
        }
      ]
    },
    {
      "cell_type": "markdown",
      "metadata": {
        "id": "_InktnlTYKBV"
      },
      "source": [
        "# **Training and Testing**"
      ]
    },
    {
      "cell_type": "code",
      "execution_count": null,
      "metadata": {
        "id": "M3WDvUmWcV0R"
      },
      "outputs": [],
      "source": [
        "images = ripe_images + overripe_images + unripe_images\n",
        "labels = ripe_labels + overripe_labels + unripe_labels"
      ]
    },
    {
      "cell_type": "code",
      "execution_count": null,
      "metadata": {
        "id": "lr-SijyS1Y7c"
      },
      "outputs": [],
      "source": [
        "labels = labels.astype('int')"
      ]
    },
    {
      "cell_type": "code",
      "execution_count": null,
      "metadata": {
        "id": "VztZsLs2z4a8"
      },
      "outputs": [],
      "source": [
        "np.save('images.npy', images)\n",
        "np.save('labels.npy', labels)"
      ]
    },
    {
      "cell_type": "code",
      "execution_count": null,
      "metadata": {
        "id": "3chvS6TJzsBa"
      },
      "outputs": [],
      "source": [
        "images = np.load('/content/drive/MyDrive/apple_dataset/images.npy')\n",
        "labels = np.load('/content/drive/MyDrive/apple_dataset/labels.npy')"
      ]
    },
    {
      "cell_type": "code",
      "execution_count": null,
      "metadata": {
        "id": "TA4lpbUsYp3L"
      },
      "outputs": [],
      "source": [
        "from sklearn.model_selection import train_test_split\n",
        "X_train, X_test, y_train, y_test = train_test_split(images, labels, test_size=0.2, random_state=42)"
      ]
    },
    {
      "cell_type": "code",
      "execution_count": null,
      "metadata": {
        "id": "Oxu-pUlkPET6"
      },
      "outputs": [],
      "source": [
        "y_train = to_categorical(y_train)\n",
        "y_test = to_categorical(y_test)"
      ]
    },
    {
      "cell_type": "markdown",
      "metadata": {
        "id": "tELU9Fd-PLtf"
      },
      "source": [
        "# **Data Augmentation**"
      ]
    },
    {
      "cell_type": "markdown",
      "metadata": {
        "id": "Gycmqz8GSr2l"
      },
      "source": [
        "**Data Generator for Train ,Test and Validation**"
      ]
    },
    {
      "cell_type": "code",
      "execution_count": null,
      "metadata": {
        "id": "ZdonqhTyPGuv"
      },
      "outputs": [],
      "source": [
        "train_datagen = ImageDataGenerator(\n",
        "    rescale=1./224,\n",
        "    rotation_range=45,\n",
        "    width_shift_range=0.2,\n",
        "    height_shift_range=0.2,\n",
        "    shear_range=0.2,\n",
        "    zoom_range=0.2,\n",
        "    horizontal_flip=True,\n",
        "    fill_mode='nearest')\n",
        "\n",
        "val_datagen = ImageDataGenerator(\n",
        "    rescale=1./224,\n",
        "    rotation_range=45,\n",
        "    width_shift_range=0.2,\n",
        "    height_shift_range=0.2,\n",
        "    shear_range=0.2,\n",
        "    zoom_range=0.2,\n",
        "    horizontal_flip=True,\n",
        "    fill_mode='nearest')\n"
      ]
    },
    {
      "cell_type": "markdown",
      "metadata": {
        "id": "fRYPcM3MTFzj"
      },
      "source": [
        "**Train Generator**"
      ]
    },
    {
      "cell_type": "code",
      "execution_count": null,
      "metadata": {
        "colab": {
          "base_uri": "https://localhost:8080/"
        },
        "id": "jOpglkyiTClM",
        "outputId": "6612ba37-f9f3-4aa8-e079-f619b8eb7dd7"
      },
      "outputs": [
        {
          "output_type": "stream",
          "name": "stdout",
          "text": [
            "Found 312 images belonging to 3 classes.\n"
          ]
        }
      ],
      "source": [
        "train_generator = train_datagen.flow_from_directory(\n",
        "    train_dir,\n",
        "    target_size=(224,224),\n",
        "    batch_size= 126,\n",
        "    class_mode='categorical')"
      ]
    },
    {
      "cell_type": "markdown",
      "metadata": {
        "id": "JyCP6m0tTb0P"
      },
      "source": [
        "**Val Generator**"
      ]
    },
    {
      "cell_type": "code",
      "execution_count": null,
      "metadata": {
        "colab": {
          "base_uri": "https://localhost:8080/"
        },
        "id": "We-J4NnOTg18",
        "outputId": "356a8b77-d152-4c8b-b576-c646a517c7eb"
      },
      "outputs": [
        {
          "output_type": "stream",
          "name": "stdout",
          "text": [
            "Found 150 images belonging to 3 classes.\n"
          ]
        }
      ],
      "source": [
        "val_generator = val_datagen.flow_from_directory(\n",
        "    val_dir,\n",
        "    target_size=(224,224),\n",
        "    batch_size= 126,\n",
        "    class_mode='categorical')"
      ]
    },
    {
      "cell_type": "markdown",
      "metadata": {
        "id": "ax-tsiGdX-K5"
      },
      "source": [
        "# **CNN Model**"
      ]
    },
    {
      "cell_type": "code",
      "execution_count": null,
      "metadata": {
        "id": "purRyFIzvq3J"
      },
      "outputs": [],
      "source": [
        "import tensorflow as tf\n",
        "from tensorflow import keras\n",
        "from tensorflow.keras.models import Sequential\n",
        "from tensorflow.keras.layers import Dense, Conv2D, MaxPooling2D, Flatten, Dropout\n",
        "from tensorflow.keras.preprocessing.image import ImageDataGenerator\n",
        "from keras.optimizers import Adam"
      ]
    },
    {
      "cell_type": "code",
      "execution_count": null,
      "metadata": {
        "id": "6mHBEmq3V_CF",
        "colab": {
          "base_uri": "https://localhost:8080/",
          "height": 238
        },
        "outputId": "6cd29b1f-10b3-4031-aba2-0a9c0000adcf"
      },
      "outputs": [
        {
          "output_type": "error",
          "ename": "NameError",
          "evalue": "ignored",
          "traceback": [
            "\u001b[0;31m---------------------------------------------------------------------------\u001b[0m",
            "\u001b[0;31mNameError\u001b[0m                                 Traceback (most recent call last)",
            "\u001b[0;32m<ipython-input-1-23ead8bf84ca>\u001b[0m in \u001b[0;36m<cell line: 1>\u001b[0;34m()\u001b[0m\n\u001b[0;32m----> 1\u001b[0;31m \u001b[0mcnn_model\u001b[0m \u001b[0;34m=\u001b[0m \u001b[0mSequential\u001b[0m\u001b[0;34m(\u001b[0m\u001b[0mname\u001b[0m\u001b[0;34m=\u001b[0m\u001b[0;34m'cnn_model'\u001b[0m\u001b[0;34m)\u001b[0m\u001b[0;34m\u001b[0m\u001b[0;34m\u001b[0m\u001b[0m\n\u001b[0m\u001b[1;32m      2\u001b[0m \u001b[0;34m\u001b[0m\u001b[0m\n\u001b[1;32m      3\u001b[0m \u001b[0mcnn_model\u001b[0m\u001b[0;34m.\u001b[0m\u001b[0madd\u001b[0m\u001b[0;34m(\u001b[0m\u001b[0mConv2D\u001b[0m\u001b[0;34m(\u001b[0m\u001b[0;36m64\u001b[0m\u001b[0;34m,\u001b[0m \u001b[0;34m(\u001b[0m\u001b[0;36m3\u001b[0m\u001b[0;34m,\u001b[0m \u001b[0;36m3\u001b[0m\u001b[0;34m)\u001b[0m\u001b[0;34m,\u001b[0m \u001b[0mactivation\u001b[0m\u001b[0;34m=\u001b[0m\u001b[0;34m'relu'\u001b[0m\u001b[0;34m,\u001b[0m \u001b[0minput_shape\u001b[0m\u001b[0;34m=\u001b[0m\u001b[0;34m(\u001b[0m\u001b[0;36m224\u001b[0m\u001b[0;34m,\u001b[0m \u001b[0;36m224\u001b[0m\u001b[0;34m,\u001b[0m \u001b[0;36m3\u001b[0m\u001b[0;34m)\u001b[0m\u001b[0;34m)\u001b[0m\u001b[0;34m)\u001b[0m\u001b[0;34m\u001b[0m\u001b[0;34m\u001b[0m\u001b[0m\n\u001b[1;32m      4\u001b[0m \u001b[0mcnn_model\u001b[0m\u001b[0;34m.\u001b[0m\u001b[0madd\u001b[0m\u001b[0;34m(\u001b[0m\u001b[0mMaxPooling2D\u001b[0m\u001b[0;34m(\u001b[0m\u001b[0;34m(\u001b[0m\u001b[0;36m2\u001b[0m\u001b[0;34m,\u001b[0m \u001b[0;36m2\u001b[0m\u001b[0;34m)\u001b[0m\u001b[0;34m)\u001b[0m\u001b[0;34m)\u001b[0m\u001b[0;34m\u001b[0m\u001b[0;34m\u001b[0m\u001b[0m\n\u001b[1;32m      5\u001b[0m \u001b[0mcnn_model\u001b[0m\u001b[0;34m.\u001b[0m\u001b[0madd\u001b[0m\u001b[0;34m(\u001b[0m\u001b[0mConv2D\u001b[0m\u001b[0;34m(\u001b[0m\u001b[0;36m64\u001b[0m\u001b[0;34m,\u001b[0m \u001b[0;34m(\u001b[0m\u001b[0;36m3\u001b[0m\u001b[0;34m,\u001b[0m \u001b[0;36m3\u001b[0m\u001b[0;34m)\u001b[0m\u001b[0;34m,\u001b[0m \u001b[0mactivation\u001b[0m\u001b[0;34m=\u001b[0m\u001b[0;34m'relu'\u001b[0m\u001b[0;34m)\u001b[0m\u001b[0;34m)\u001b[0m\u001b[0;34m\u001b[0m\u001b[0;34m\u001b[0m\u001b[0m\n",
            "\u001b[0;31mNameError\u001b[0m: name 'Sequential' is not defined"
          ]
        }
      ],
      "source": [
        "model = tf.keras.models.Sequential([\n",
        "    tf.keras.layers.Conv2D(64, (3,3), activation='relu', input_shape=(224, 224, 3)),\n",
        "    tf.keras.layers.MaxPooling2D(2, 2),\n",
        "    # The second convolution\n",
        "    tf.keras.layers.Conv2D(64, (3,3), activation='relu'),\n",
        "    tf.keras.layers.MaxPooling2D(2,2),\n",
        "    # The third convolution\n",
        "    tf.keras.layers.Conv2D(128, (3,3), activation='relu'),\n",
        "    tf.keras.layers.MaxPooling2D(2,2),\n",
        "    # The fourth convolution\n",
        "    tf.keras.layers.Conv2D(128, (3,3), activation='relu'),\n",
        "    tf.keras.layers.MaxPooling2D(2,2),\n",
        "    # Flatten the results to feed into a DNN\n",
        "    tf.keras.layers.Flatten(),\n",
        "    tf.keras.layers.Dropout(0.5),\n",
        "    # 512 neuron hidden layer\n",
        "    tf.keras.layers.Dense(512, activation='relu'),\n",
        "    tf.keras.layers.Dense(3, activation='softmax')\n",
        "])"
      ]
    },
    {
      "cell_type": "markdown",
      "metadata": {
        "id": "I-849jTJDah_"
      },
      "source": [
        "### **Model Summary**"
      ]
    },
    {
      "cell_type": "code",
      "execution_count": null,
      "metadata": {
        "id": "y-Gquj6MDPE3"
      },
      "outputs": [],
      "source": [
        "model.summary()"
      ]
    },
    {
      "cell_type": "markdown",
      "metadata": {
        "id": "qS-gpoYcGGL_"
      },
      "source": [
        "### **Compiling the Model**"
      ]
    },
    {
      "cell_type": "code",
      "execution_count": null,
      "metadata": {
        "id": "qGuY-k6JF5bs"
      },
      "outputs": [],
      "source": [
        "model.compile(optimizer= 'rmsprop',\n",
        "              loss='categorical_crossentropy',\n",
        "              metrics=['accuracy'])"
      ]
    },
    {
      "cell_type": "markdown",
      "metadata": {
        "id": "cCGnnSy5Nb39"
      },
      "source": [
        "### **Model Training**"
      ]
    },
    {
      "cell_type": "code",
      "execution_count": null,
      "metadata": {
        "colab": {
          "base_uri": "https://localhost:8080/",
          "height": 1000
        },
        "id": "CuKy0YIyHBGf",
        "outputId": "2de14033-c8cd-4f04-9fdd-7ac352c62cd4"
      },
      "outputs": [
        {
          "output_type": "stream",
          "name": "stdout",
          "text": [
            "Epoch 1/150\n",
            "9/9 [==============================] - 55s 6s/step - loss: 1.2146 - accuracy: 0.3357 - val_loss: 1.0187 - val_accuracy: 0.3125\n",
            "Epoch 2/150\n",
            "9/9 [==============================] - 56s 6s/step - loss: 0.9617 - accuracy: 0.5393 - val_loss: 0.9596 - val_accuracy: 0.4922\n",
            "Epoch 3/150\n",
            "9/9 [==============================] - 64s 7s/step - loss: 0.7718 - accuracy: 0.6857 - val_loss: 1.1926 - val_accuracy: 0.6094\n",
            "Epoch 4/150\n",
            "9/9 [==============================] - 56s 6s/step - loss: 0.8454 - accuracy: 0.5643 - val_loss: 0.7816 - val_accuracy: 0.6016\n",
            "Epoch 5/150\n",
            "9/9 [==============================] - 57s 6s/step - loss: 0.7036 - accuracy: 0.6250 - val_loss: 0.7995 - val_accuracy: 0.5234\n",
            "Epoch 6/150\n",
            "9/9 [==============================] - 58s 7s/step - loss: 0.5451 - accuracy: 0.6771 - val_loss: 0.6384 - val_accuracy: 0.6094\n",
            "Epoch 7/150\n",
            "9/9 [==============================] - 57s 6s/step - loss: 0.5778 - accuracy: 0.7036 - val_loss: 0.6368 - val_accuracy: 0.6328\n",
            "Epoch 8/150\n",
            "9/9 [==============================] - 57s 6s/step - loss: 0.4221 - accuracy: 0.7893 - val_loss: 0.7740 - val_accuracy: 0.6250\n",
            "Epoch 9/150\n",
            "9/9 [==============================] - 57s 6s/step - loss: 0.3242 - accuracy: 0.8643 - val_loss: 0.6005 - val_accuracy: 0.7422\n",
            "Epoch 10/150\n",
            "9/9 [==============================] - 56s 6s/step - loss: 0.3268 - accuracy: 0.8714 - val_loss: 0.8978 - val_accuracy: 0.7734\n",
            "Epoch 11/150\n",
            "9/9 [==============================] - 58s 7s/step - loss: 0.3336 - accuracy: 0.8750 - val_loss: 1.2607 - val_accuracy: 0.7734\n",
            "Epoch 12/150\n",
            "9/9 [==============================] - 61s 7s/step - loss: 0.2005 - accuracy: 0.9143 - val_loss: 0.4916 - val_accuracy: 0.8047\n",
            "Epoch 13/150\n",
            "9/9 [==============================] - 53s 6s/step - loss: 0.1982 - accuracy: 0.9321 - val_loss: 1.2662 - val_accuracy: 0.7266\n",
            "Epoch 14/150\n",
            "9/9 [==============================] - 57s 7s/step - loss: 0.1907 - accuracy: 0.9143 - val_loss: 0.4322 - val_accuracy: 0.8438\n",
            "Epoch 15/150\n",
            "9/9 [==============================] - 57s 6s/step - loss: 0.1546 - accuracy: 0.9607 - val_loss: 0.4590 - val_accuracy: 0.8047\n",
            "Epoch 16/150\n",
            "9/9 [==============================] - 58s 6s/step - loss: 0.1018 - accuracy: 0.9571 - val_loss: 0.6625 - val_accuracy: 0.7891\n",
            "Epoch 17/150\n",
            "9/9 [==============================] - 58s 7s/step - loss: 0.0708 - accuracy: 0.9786 - val_loss: 0.4693 - val_accuracy: 0.8516\n",
            "Epoch 18/150\n",
            "9/9 [==============================] - 57s 6s/step - loss: 0.0989 - accuracy: 0.9571 - val_loss: 0.3615 - val_accuracy: 0.8438\n",
            "Epoch 19/150\n",
            "9/9 [==============================] - 57s 7s/step - loss: 0.0870 - accuracy: 0.9750 - val_loss: 0.3411 - val_accuracy: 0.9141\n",
            "Epoch 20/150\n",
            "9/9 [==============================] - 57s 7s/step - loss: 0.0958 - accuracy: 0.9643 - val_loss: 0.5165 - val_accuracy: 0.8047\n",
            "Epoch 21/150\n",
            "9/9 [==============================] - 64s 7s/step - loss: 0.0920 - accuracy: 0.9679 - val_loss: 1.4467 - val_accuracy: 0.7656\n",
            "Epoch 22/150\n",
            "9/9 [==============================] - 57s 7s/step - loss: 0.1222 - accuracy: 0.9679 - val_loss: 0.5430 - val_accuracy: 0.8203\n",
            "Epoch 23/150\n",
            "9/9 [==============================] - 57s 7s/step - loss: 0.0924 - accuracy: 0.9714 - val_loss: 0.4766 - val_accuracy: 0.8594\n",
            "Epoch 24/150\n",
            "9/9 [==============================] - 57s 6s/step - loss: 0.0683 - accuracy: 0.9786 - val_loss: 0.4223 - val_accuracy: 0.8750\n",
            "Epoch 25/150\n",
            "9/9 [==============================] - 57s 6s/step - loss: 0.0232 - accuracy: 0.9929 - val_loss: 0.3171 - val_accuracy: 0.8906\n",
            "Epoch 26/150\n",
            "9/9 [==============================] - 57s 6s/step - loss: 0.0425 - accuracy: 0.9857 - val_loss: 0.4009 - val_accuracy: 0.8828\n",
            "Epoch 27/150\n",
            "9/9 [==============================] - 57s 7s/step - loss: 0.1050 - accuracy: 0.9714 - val_loss: 0.1994 - val_accuracy: 0.9609\n",
            "Epoch 28/150\n",
            "9/9 [==============================] - 57s 7s/step - loss: 0.0993 - accuracy: 0.9571 - val_loss: 0.2134 - val_accuracy: 0.9531\n",
            "Epoch 29/150\n",
            "9/9 [==============================] - 59s 7s/step - loss: 0.2381 - accuracy: 0.9321 - val_loss: 0.3242 - val_accuracy: 0.9219\n",
            "Epoch 30/150\n",
            "9/9 [==============================] - 56s 6s/step - loss: 0.0662 - accuracy: 0.9786 - val_loss: 0.3261 - val_accuracy: 0.8828\n",
            "Epoch 31/150\n",
            "9/9 [==============================] - 57s 7s/step - loss: 0.0940 - accuracy: 0.9714 - val_loss: 0.2518 - val_accuracy: 0.9141\n",
            "Epoch 32/150\n",
            "9/9 [==============================] - 57s 6s/step - loss: 0.0481 - accuracy: 0.9857 - val_loss: 0.5341 - val_accuracy: 0.8516\n",
            "Epoch 33/150\n",
            "9/9 [==============================] - 54s 6s/step - loss: 0.0771 - accuracy: 0.9653 - val_loss: 0.9198 - val_accuracy: 0.8438\n",
            "Epoch 34/150\n",
            "9/9 [==============================] - 57s 6s/step - loss: 0.0364 - accuracy: 0.9857 - val_loss: 0.2945 - val_accuracy: 0.9375\n",
            "Epoch 35/150\n",
            "9/9 [==============================] - 54s 6s/step - loss: 0.0530 - accuracy: 0.9929 - val_loss: 0.5196 - val_accuracy: 0.8594\n",
            "Epoch 36/150\n",
            "9/9 [==============================] - 55s 6s/step - loss: 0.0507 - accuracy: 0.9821 - val_loss: 0.0963 - val_accuracy: 0.9766\n",
            "Epoch 37/150\n",
            "9/9 [==============================] - 53s 6s/step - loss: 0.0301 - accuracy: 0.9893 - val_loss: 0.2757 - val_accuracy: 0.9141\n",
            "Epoch 38/150\n",
            "9/9 [==============================] - 62s 7s/step - loss: 0.0419 - accuracy: 0.9857 - val_loss: 0.3054 - val_accuracy: 0.9219\n",
            "Epoch 39/150\n",
            "9/9 [==============================] - 53s 6s/step - loss: 0.0585 - accuracy: 0.9857 - val_loss: 1.1101 - val_accuracy: 0.8750\n",
            "Epoch 40/150\n",
            "9/9 [==============================] - 56s 6s/step - loss: 0.0714 - accuracy: 0.9757 - val_loss: 0.4242 - val_accuracy: 0.8984\n",
            "Epoch 41/150\n",
            "9/9 [==============================] - 56s 6s/step - loss: 0.1134 - accuracy: 0.9607 - val_loss: 0.3155 - val_accuracy: 0.9062\n",
            "Epoch 42/150\n",
            "9/9 [==============================] - 55s 6s/step - loss: 0.0850 - accuracy: 0.9750 - val_loss: 0.4507 - val_accuracy: 0.8828\n",
            "Epoch 43/150\n",
            "9/9 [==============================] - 55s 6s/step - loss: 0.0422 - accuracy: 0.9893 - val_loss: 0.1800 - val_accuracy: 0.9688\n",
            "Epoch 44/150\n",
            "9/9 [==============================] - 54s 6s/step - loss: 0.0370 - accuracy: 0.9786 - val_loss: 0.6695 - val_accuracy: 0.8672\n",
            "Epoch 45/150\n",
            "9/9 [==============================] - 55s 6s/step - loss: 0.0105 - accuracy: 0.9964 - val_loss: 0.3576 - val_accuracy: 0.9219\n",
            "Epoch 46/150\n",
            "9/9 [==============================] - 53s 6s/step - loss: 0.0100 - accuracy: 0.9964 - val_loss: 0.0771 - val_accuracy: 0.9609\n",
            "Epoch 47/150\n",
            "9/9 [==============================] - 54s 6s/step - loss: 0.0127 - accuracy: 0.9964 - val_loss: 0.1747 - val_accuracy: 0.9375\n",
            "Epoch 48/150\n",
            "9/9 [==============================] - 55s 6s/step - loss: 0.0419 - accuracy: 0.9821 - val_loss: 0.2597 - val_accuracy: 0.9453\n",
            "Epoch 49/150\n",
            "9/9 [==============================] - 56s 6s/step - loss: 0.0933 - accuracy: 0.9679 - val_loss: 0.3958 - val_accuracy: 0.9062\n",
            "Epoch 50/150\n",
            "9/9 [==============================] - 55s 6s/step - loss: 0.1113 - accuracy: 0.9679 - val_loss: 0.0784 - val_accuracy: 0.9688\n",
            "Epoch 51/150\n",
            "9/9 [==============================] - 55s 6s/step - loss: 0.0762 - accuracy: 0.9857 - val_loss: 0.3536 - val_accuracy: 0.8906\n",
            "Epoch 52/150\n",
            "9/9 [==============================] - 55s 6s/step - loss: 0.0211 - accuracy: 1.0000 - val_loss: 0.1975 - val_accuracy: 0.9688\n",
            "Epoch 53/150\n",
            "9/9 [==============================] - 55s 6s/step - loss: 0.0165 - accuracy: 0.9929 - val_loss: 0.1768 - val_accuracy: 0.9297\n",
            "Epoch 54/150\n",
            "9/9 [==============================] - 55s 6s/step - loss: 0.0129 - accuracy: 0.9964 - val_loss: 0.2482 - val_accuracy: 0.9453\n",
            "Epoch 55/150\n",
            "9/9 [==============================] - 55s 6s/step - loss: 0.0876 - accuracy: 0.9750 - val_loss: 0.6140 - val_accuracy: 0.8359\n",
            "Epoch 56/150\n",
            "9/9 [==============================] - 55s 6s/step - loss: 0.0812 - accuracy: 0.9786 - val_loss: 0.1311 - val_accuracy: 0.9609\n",
            "Epoch 57/150\n",
            "9/9 [==============================] - 55s 6s/step - loss: 0.0401 - accuracy: 0.9893 - val_loss: 0.8830 - val_accuracy: 0.7969\n",
            "Epoch 58/150\n",
            "9/9 [==============================] - 55s 6s/step - loss: 0.1638 - accuracy: 0.9679 - val_loss: 0.0954 - val_accuracy: 0.9922\n",
            "Epoch 59/150\n",
            "9/9 [==============================] - 56s 6s/step - loss: 0.0530 - accuracy: 0.9826 - val_loss: 0.1170 - val_accuracy: 0.9766\n",
            "Epoch 60/150\n",
            "9/9 [==============================] - 55s 6s/step - loss: 0.0784 - accuracy: 0.9821 - val_loss: 0.1481 - val_accuracy: 0.9453\n",
            "Epoch 61/150\n",
            "9/9 [==============================] - 55s 6s/step - loss: 0.0302 - accuracy: 0.9857 - val_loss: 0.1855 - val_accuracy: 0.9609\n",
            "Epoch 62/150\n",
            "9/9 [==============================] - 53s 6s/step - loss: 0.0103 - accuracy: 0.9929 - val_loss: 0.0578 - val_accuracy: 0.9844\n",
            "Epoch 63/150\n",
            "9/9 [==============================] - 55s 6s/step - loss: 0.0063 - accuracy: 0.9964 - val_loss: 0.2288 - val_accuracy: 0.9531\n",
            "Epoch 64/150\n",
            "9/9 [==============================] - 52s 6s/step - loss: 0.0568 - accuracy: 0.9893 - val_loss: 0.1401 - val_accuracy: 0.9688\n",
            "Epoch 65/150\n",
            "9/9 [==============================] - 55s 6s/step - loss: 0.0135 - accuracy: 0.9929 - val_loss: 0.9849 - val_accuracy: 0.8203\n",
            "Epoch 66/150\n",
            "9/9 [==============================] - 55s 6s/step - loss: 0.0357 - accuracy: 0.9857 - val_loss: 0.7685 - val_accuracy: 0.8750\n",
            "Epoch 67/150\n",
            "9/9 [==============================] - 56s 6s/step - loss: 0.2041 - accuracy: 0.9643 - val_loss: 0.3602 - val_accuracy: 0.9219\n",
            "Epoch 68/150\n",
            "9/9 [==============================] - 55s 6s/step - loss: 0.2058 - accuracy: 0.9429 - val_loss: 0.2243 - val_accuracy: 0.9453\n",
            "Epoch 69/150\n",
            "9/9 [==============================] - 55s 6s/step - loss: 0.1546 - accuracy: 0.9464 - val_loss: 0.1960 - val_accuracy: 0.9219\n",
            "Epoch 70/150\n",
            "9/9 [==============================] - 56s 6s/step - loss: 0.0987 - accuracy: 0.9786 - val_loss: 0.1225 - val_accuracy: 0.9609\n",
            "Epoch 71/150\n",
            "9/9 [==============================] - 53s 6s/step - loss: 0.0494 - accuracy: 0.9821 - val_loss: 0.0496 - val_accuracy: 0.9922\n",
            "Epoch 72/150\n",
            "9/9 [==============================] - 51s 6s/step - loss: 0.0336 - accuracy: 0.9857 - val_loss: 0.5715 - val_accuracy: 0.8203\n",
            "Epoch 73/150\n",
            "9/9 [==============================] - 55s 6s/step - loss: 0.0236 - accuracy: 0.9893 - val_loss: 0.1059 - val_accuracy: 0.9688\n",
            "Epoch 74/150\n",
            "9/9 [==============================] - 55s 6s/step - loss: 0.0426 - accuracy: 0.9857 - val_loss: 0.3373 - val_accuracy: 0.9062\n",
            "Epoch 75/150\n",
            "9/9 [==============================] - 55s 6s/step - loss: 0.0340 - accuracy: 0.9964 - val_loss: 0.5865 - val_accuracy: 0.8672\n",
            "Epoch 76/150\n",
            "9/9 [==============================] - 56s 6s/step - loss: 0.0100 - accuracy: 1.0000 - val_loss: 0.1796 - val_accuracy: 0.9297\n",
            "Epoch 77/150\n",
            "9/9 [==============================] - 55s 6s/step - loss: 0.0044 - accuracy: 1.0000 - val_loss: 0.1707 - val_accuracy: 0.9375\n",
            "Epoch 78/150\n",
            "9/9 [==============================] - 55s 6s/step - loss: 0.0067 - accuracy: 0.9964 - val_loss: 0.1811 - val_accuracy: 0.9609\n",
            "Epoch 79/150\n",
            "9/9 [==============================] - 57s 6s/step - loss: 0.0128 - accuracy: 0.9965 - val_loss: 0.1457 - val_accuracy: 0.9453\n",
            "Epoch 80/150\n",
            "9/9 [==============================] - 56s 6s/step - loss: 0.0702 - accuracy: 0.9607 - val_loss: 0.1343 - val_accuracy: 0.9531\n",
            "Epoch 81/150\n",
            "9/9 [==============================] - 55s 6s/step - loss: 0.0135 - accuracy: 0.9929 - val_loss: 0.2056 - val_accuracy: 0.9219\n",
            "Epoch 82/150\n",
            "9/9 [==============================] - 56s 6s/step - loss: 0.0361 - accuracy: 0.9929 - val_loss: 0.6321 - val_accuracy: 0.8828\n",
            "Epoch 83/150\n",
            "9/9 [==============================] - 53s 6s/step - loss: 0.0748 - accuracy: 0.9857 - val_loss: 0.4277 - val_accuracy: 0.9062\n",
            "Epoch 84/150\n",
            "9/9 [==============================] - 57s 6s/step - loss: 0.0424 - accuracy: 0.9857 - val_loss: 0.0973 - val_accuracy: 0.9609\n",
            "Epoch 85/150\n",
            "9/9 [==============================] - 57s 6s/step - loss: 0.0284 - accuracy: 0.9893 - val_loss: 0.0388 - val_accuracy: 0.9922\n",
            "Epoch 86/150\n",
            "9/9 [==============================] - 56s 6s/step - loss: 0.0179 - accuracy: 0.9929 - val_loss: 0.1981 - val_accuracy: 0.9297\n",
            "Epoch 87/150\n",
            "9/9 [==============================] - 53s 6s/step - loss: 0.0204 - accuracy: 0.9964 - val_loss: 0.2093 - val_accuracy: 0.9062\n",
            "Epoch 88/150\n",
            "9/9 [==============================] - 55s 6s/step - loss: 0.0290 - accuracy: 0.9893 - val_loss: 0.0409 - val_accuracy: 0.9922\n",
            "Epoch 89/150\n",
            "9/9 [==============================] - 55s 6s/step - loss: 0.0213 - accuracy: 0.9893 - val_loss: 0.3651 - val_accuracy: 0.8750\n",
            "Epoch 90/150\n",
            "9/9 [==============================] - 52s 6s/step - loss: 0.0171 - accuracy: 0.9893 - val_loss: 0.0851 - val_accuracy: 0.9844\n",
            "Epoch 91/150\n",
            "9/9 [==============================] - 55s 6s/step - loss: 0.0495 - accuracy: 0.9893 - val_loss: 0.3866 - val_accuracy: 0.8984\n",
            "Epoch 92/150\n",
            "9/9 [==============================] - 55s 6s/step - loss: 0.0239 - accuracy: 0.9893 - val_loss: 0.4018 - val_accuracy: 0.8906\n",
            "Epoch 93/150\n",
            "9/9 [==============================] - 56s 6s/step - loss: 0.0097 - accuracy: 0.9929 - val_loss: 0.3003 - val_accuracy: 0.9219\n",
            "Epoch 94/150\n",
            "9/9 [==============================] - 55s 6s/step - loss: 0.0092 - accuracy: 0.9964 - val_loss: 0.6260 - val_accuracy: 0.8750\n",
            "Epoch 95/150\n",
            "9/9 [==============================] - 56s 6s/step - loss: 0.0099 - accuracy: 0.9931 - val_loss: 0.0466 - val_accuracy: 0.9844\n",
            "Epoch 96/150\n",
            "9/9 [==============================] - 55s 6s/step - loss: 4.8371e-04 - accuracy: 1.0000 - val_loss: 0.0387 - val_accuracy: 0.9922\n",
            "Epoch 97/150\n",
            "9/9 [==============================] - 57s 6s/step - loss: 0.0020 - accuracy: 1.0000 - val_loss: 0.0042 - val_accuracy: 1.0000\n",
            "Epoch 98/150\n",
            "9/9 [==============================] - 57s 6s/step - loss: 0.0011 - accuracy: 1.0000 - val_loss: 0.0095 - val_accuracy: 0.9922\n",
            "Epoch 99/150\n",
            "9/9 [==============================] - 56s 6s/step - loss: 0.0024 - accuracy: 1.0000 - val_loss: 0.0765 - val_accuracy: 0.9766\n",
            "Epoch 100/150\n",
            "9/9 [==============================] - 55s 6s/step - loss: 0.0016 - accuracy: 1.0000 - val_loss: 0.1742 - val_accuracy: 0.9375\n",
            "Epoch 101/150\n",
            "9/9 [==============================] - 55s 6s/step - loss: 0.0065 - accuracy: 0.9964 - val_loss: 0.0745 - val_accuracy: 0.9766\n",
            "Epoch 102/150\n",
            "9/9 [==============================] - 56s 6s/step - loss: 0.0019 - accuracy: 1.0000 - val_loss: 0.1214 - val_accuracy: 0.9609\n",
            "Epoch 103/150\n",
            "9/9 [==============================] - 55s 6s/step - loss: 0.0068 - accuracy: 0.9964 - val_loss: 0.3127 - val_accuracy: 0.9062\n",
            "Epoch 104/150\n",
            "9/9 [==============================] - 56s 6s/step - loss: 0.0138 - accuracy: 0.9929 - val_loss: 0.0314 - val_accuracy: 0.9844\n",
            "Epoch 105/150\n",
            "9/9 [==============================] - 53s 6s/step - loss: 0.0238 - accuracy: 0.9893 - val_loss: 1.5405 - val_accuracy: 0.7656\n",
            "Epoch 106/150\n",
            "9/9 [==============================] - 55s 6s/step - loss: 0.0511 - accuracy: 0.9929 - val_loss: 0.1303 - val_accuracy: 0.9766\n",
            "Epoch 107/150\n",
            "9/9 [==============================] - 55s 6s/step - loss: 0.0139 - accuracy: 0.9964 - val_loss: 0.0086 - val_accuracy: 0.9922\n",
            "Epoch 108/150\n",
            "9/9 [==============================] - 55s 6s/step - loss: 0.1134 - accuracy: 0.9750 - val_loss: 0.2182 - val_accuracy: 0.9375\n",
            "Epoch 109/150\n",
            "9/9 [==============================] - 53s 6s/step - loss: 0.0350 - accuracy: 0.9893 - val_loss: 0.1097 - val_accuracy: 0.9609\n",
            "Epoch 110/150\n",
            "9/9 [==============================] - 55s 6s/step - loss: 0.0137 - accuracy: 0.9964 - val_loss: 0.4532 - val_accuracy: 0.9062\n",
            "Epoch 111/150\n",
            "9/9 [==============================] - 55s 6s/step - loss: 0.0253 - accuracy: 0.9964 - val_loss: 0.2744 - val_accuracy: 0.9219\n",
            "Epoch 112/150\n",
            "9/9 [==============================] - 55s 6s/step - loss: 0.0039 - accuracy: 1.0000 - val_loss: 0.2762 - val_accuracy: 0.8828\n",
            "Epoch 113/150\n",
            "9/9 [==============================] - 53s 6s/step - loss: 0.0138 - accuracy: 0.9893 - val_loss: 0.1639 - val_accuracy: 0.9219\n",
            "Epoch 114/150\n",
            "7/9 [======================>.......] - ETA: 9s - loss: 0.0058 - accuracy: 0.9954 "
          ]
        },
        {
          "output_type": "error",
          "ename": "KeyboardInterrupt",
          "evalue": "ignored",
          "traceback": [
            "\u001b[0;31m---------------------------------------------------------------------------\u001b[0m",
            "\u001b[0;31mKeyboardInterrupt\u001b[0m                         Traceback (most recent call last)",
            "\u001b[0;32m<ipython-input-62-da05e753f8eb>\u001b[0m in \u001b[0;36m<cell line: 1>\u001b[0;34m()\u001b[0m\n\u001b[0;32m----> 1\u001b[0;31m history = cnn_model.fit(\n\u001b[0m\u001b[1;32m      2\u001b[0m     \u001b[0mtrain_generator\u001b[0m\u001b[0;34m,\u001b[0m\u001b[0;34m\u001b[0m\u001b[0;34m\u001b[0m\u001b[0m\n\u001b[1;32m      3\u001b[0m     \u001b[0msteps_per_epoch\u001b[0m\u001b[0;34m=\u001b[0m\u001b[0mtrain_generator\u001b[0m\u001b[0;34m.\u001b[0m\u001b[0msamples\u001b[0m\u001b[0;34m//\u001b[0m\u001b[0;36m32\u001b[0m\u001b[0;34m,\u001b[0m\u001b[0;34m\u001b[0m\u001b[0;34m\u001b[0m\u001b[0m\n\u001b[1;32m      4\u001b[0m     \u001b[0mepochs\u001b[0m\u001b[0;34m=\u001b[0m\u001b[0;36m150\u001b[0m\u001b[0;34m,\u001b[0m\u001b[0;34m\u001b[0m\u001b[0;34m\u001b[0m\u001b[0m\n\u001b[1;32m      5\u001b[0m     \u001b[0mvalidation_data\u001b[0m\u001b[0;34m=\u001b[0m\u001b[0mval_generator\u001b[0m\u001b[0;34m,\u001b[0m\u001b[0;34m\u001b[0m\u001b[0;34m\u001b[0m\u001b[0m\n",
            "\u001b[0;32m/usr/local/lib/python3.9/dist-packages/keras/utils/traceback_utils.py\u001b[0m in \u001b[0;36merror_handler\u001b[0;34m(*args, **kwargs)\u001b[0m\n\u001b[1;32m     63\u001b[0m         \u001b[0mfiltered_tb\u001b[0m \u001b[0;34m=\u001b[0m \u001b[0;32mNone\u001b[0m\u001b[0;34m\u001b[0m\u001b[0;34m\u001b[0m\u001b[0m\n\u001b[1;32m     64\u001b[0m         \u001b[0;32mtry\u001b[0m\u001b[0;34m:\u001b[0m\u001b[0;34m\u001b[0m\u001b[0;34m\u001b[0m\u001b[0m\n\u001b[0;32m---> 65\u001b[0;31m             \u001b[0;32mreturn\u001b[0m \u001b[0mfn\u001b[0m\u001b[0;34m(\u001b[0m\u001b[0;34m*\u001b[0m\u001b[0margs\u001b[0m\u001b[0;34m,\u001b[0m \u001b[0;34m**\u001b[0m\u001b[0mkwargs\u001b[0m\u001b[0;34m)\u001b[0m\u001b[0;34m\u001b[0m\u001b[0;34m\u001b[0m\u001b[0m\n\u001b[0m\u001b[1;32m     66\u001b[0m         \u001b[0;32mexcept\u001b[0m \u001b[0mException\u001b[0m \u001b[0;32mas\u001b[0m \u001b[0me\u001b[0m\u001b[0;34m:\u001b[0m\u001b[0;34m\u001b[0m\u001b[0;34m\u001b[0m\u001b[0m\n\u001b[1;32m     67\u001b[0m             \u001b[0mfiltered_tb\u001b[0m \u001b[0;34m=\u001b[0m \u001b[0m_process_traceback_frames\u001b[0m\u001b[0;34m(\u001b[0m\u001b[0me\u001b[0m\u001b[0;34m.\u001b[0m\u001b[0m__traceback__\u001b[0m\u001b[0;34m)\u001b[0m\u001b[0;34m\u001b[0m\u001b[0;34m\u001b[0m\u001b[0m\n",
            "\u001b[0;32m/usr/local/lib/python3.9/dist-packages/keras/engine/training.py\u001b[0m in \u001b[0;36mfit\u001b[0;34m(self, x, y, batch_size, epochs, verbose, callbacks, validation_split, validation_data, shuffle, class_weight, sample_weight, initial_epoch, steps_per_epoch, validation_steps, validation_batch_size, validation_freq, max_queue_size, workers, use_multiprocessing)\u001b[0m\n\u001b[1;32m   1683\u001b[0m                         ):\n\u001b[1;32m   1684\u001b[0m                             \u001b[0mcallbacks\u001b[0m\u001b[0;34m.\u001b[0m\u001b[0mon_train_batch_begin\u001b[0m\u001b[0;34m(\u001b[0m\u001b[0mstep\u001b[0m\u001b[0;34m)\u001b[0m\u001b[0;34m\u001b[0m\u001b[0;34m\u001b[0m\u001b[0m\n\u001b[0;32m-> 1685\u001b[0;31m                             \u001b[0mtmp_logs\u001b[0m \u001b[0;34m=\u001b[0m \u001b[0mself\u001b[0m\u001b[0;34m.\u001b[0m\u001b[0mtrain_function\u001b[0m\u001b[0;34m(\u001b[0m\u001b[0miterator\u001b[0m\u001b[0;34m)\u001b[0m\u001b[0;34m\u001b[0m\u001b[0;34m\u001b[0m\u001b[0m\n\u001b[0m\u001b[1;32m   1686\u001b[0m                             \u001b[0;32mif\u001b[0m \u001b[0mdata_handler\u001b[0m\u001b[0;34m.\u001b[0m\u001b[0mshould_sync\u001b[0m\u001b[0;34m:\u001b[0m\u001b[0;34m\u001b[0m\u001b[0;34m\u001b[0m\u001b[0m\n\u001b[1;32m   1687\u001b[0m                                 \u001b[0mcontext\u001b[0m\u001b[0;34m.\u001b[0m\u001b[0masync_wait\u001b[0m\u001b[0;34m(\u001b[0m\u001b[0;34m)\u001b[0m\u001b[0;34m\u001b[0m\u001b[0;34m\u001b[0m\u001b[0m\n",
            "\u001b[0;32m/usr/local/lib/python3.9/dist-packages/tensorflow/python/util/traceback_utils.py\u001b[0m in \u001b[0;36merror_handler\u001b[0;34m(*args, **kwargs)\u001b[0m\n\u001b[1;32m    148\u001b[0m     \u001b[0mfiltered_tb\u001b[0m \u001b[0;34m=\u001b[0m \u001b[0;32mNone\u001b[0m\u001b[0;34m\u001b[0m\u001b[0;34m\u001b[0m\u001b[0m\n\u001b[1;32m    149\u001b[0m     \u001b[0;32mtry\u001b[0m\u001b[0;34m:\u001b[0m\u001b[0;34m\u001b[0m\u001b[0;34m\u001b[0m\u001b[0m\n\u001b[0;32m--> 150\u001b[0;31m       \u001b[0;32mreturn\u001b[0m \u001b[0mfn\u001b[0m\u001b[0;34m(\u001b[0m\u001b[0;34m*\u001b[0m\u001b[0margs\u001b[0m\u001b[0;34m,\u001b[0m \u001b[0;34m**\u001b[0m\u001b[0mkwargs\u001b[0m\u001b[0;34m)\u001b[0m\u001b[0;34m\u001b[0m\u001b[0;34m\u001b[0m\u001b[0m\n\u001b[0m\u001b[1;32m    151\u001b[0m     \u001b[0;32mexcept\u001b[0m \u001b[0mException\u001b[0m \u001b[0;32mas\u001b[0m \u001b[0me\u001b[0m\u001b[0;34m:\u001b[0m\u001b[0;34m\u001b[0m\u001b[0;34m\u001b[0m\u001b[0m\n\u001b[1;32m    152\u001b[0m       \u001b[0mfiltered_tb\u001b[0m \u001b[0;34m=\u001b[0m \u001b[0m_process_traceback_frames\u001b[0m\u001b[0;34m(\u001b[0m\u001b[0me\u001b[0m\u001b[0;34m.\u001b[0m\u001b[0m__traceback__\u001b[0m\u001b[0;34m)\u001b[0m\u001b[0;34m\u001b[0m\u001b[0;34m\u001b[0m\u001b[0m\n",
            "\u001b[0;32m/usr/local/lib/python3.9/dist-packages/tensorflow/python/eager/polymorphic_function/polymorphic_function.py\u001b[0m in \u001b[0;36m__call__\u001b[0;34m(self, *args, **kwds)\u001b[0m\n\u001b[1;32m    892\u001b[0m \u001b[0;34m\u001b[0m\u001b[0m\n\u001b[1;32m    893\u001b[0m       \u001b[0;32mwith\u001b[0m \u001b[0mOptionalXlaContext\u001b[0m\u001b[0;34m(\u001b[0m\u001b[0mself\u001b[0m\u001b[0;34m.\u001b[0m\u001b[0m_jit_compile\u001b[0m\u001b[0;34m)\u001b[0m\u001b[0;34m:\u001b[0m\u001b[0;34m\u001b[0m\u001b[0;34m\u001b[0m\u001b[0m\n\u001b[0;32m--> 894\u001b[0;31m         \u001b[0mresult\u001b[0m \u001b[0;34m=\u001b[0m \u001b[0mself\u001b[0m\u001b[0;34m.\u001b[0m\u001b[0m_call\u001b[0m\u001b[0;34m(\u001b[0m\u001b[0;34m*\u001b[0m\u001b[0margs\u001b[0m\u001b[0;34m,\u001b[0m \u001b[0;34m**\u001b[0m\u001b[0mkwds\u001b[0m\u001b[0;34m)\u001b[0m\u001b[0;34m\u001b[0m\u001b[0;34m\u001b[0m\u001b[0m\n\u001b[0m\u001b[1;32m    895\u001b[0m \u001b[0;34m\u001b[0m\u001b[0m\n\u001b[1;32m    896\u001b[0m       \u001b[0mnew_tracing_count\u001b[0m \u001b[0;34m=\u001b[0m \u001b[0mself\u001b[0m\u001b[0;34m.\u001b[0m\u001b[0mexperimental_get_tracing_count\u001b[0m\u001b[0;34m(\u001b[0m\u001b[0;34m)\u001b[0m\u001b[0;34m\u001b[0m\u001b[0;34m\u001b[0m\u001b[0m\n",
            "\u001b[0;32m/usr/local/lib/python3.9/dist-packages/tensorflow/python/eager/polymorphic_function/polymorphic_function.py\u001b[0m in \u001b[0;36m_call\u001b[0;34m(self, *args, **kwds)\u001b[0m\n\u001b[1;32m    924\u001b[0m       \u001b[0;31m# In this case we have created variables on the first call, so we run the\u001b[0m\u001b[0;34m\u001b[0m\u001b[0;34m\u001b[0m\u001b[0m\n\u001b[1;32m    925\u001b[0m       \u001b[0;31m# defunned version which is guaranteed to never create variables.\u001b[0m\u001b[0;34m\u001b[0m\u001b[0;34m\u001b[0m\u001b[0m\n\u001b[0;32m--> 926\u001b[0;31m       \u001b[0;32mreturn\u001b[0m \u001b[0mself\u001b[0m\u001b[0;34m.\u001b[0m\u001b[0m_no_variable_creation_fn\u001b[0m\u001b[0;34m(\u001b[0m\u001b[0;34m*\u001b[0m\u001b[0margs\u001b[0m\u001b[0;34m,\u001b[0m \u001b[0;34m**\u001b[0m\u001b[0mkwds\u001b[0m\u001b[0;34m)\u001b[0m  \u001b[0;31m# pylint: disable=not-callable\u001b[0m\u001b[0;34m\u001b[0m\u001b[0;34m\u001b[0m\u001b[0m\n\u001b[0m\u001b[1;32m    927\u001b[0m     \u001b[0;32melif\u001b[0m \u001b[0mself\u001b[0m\u001b[0;34m.\u001b[0m\u001b[0m_variable_creation_fn\u001b[0m \u001b[0;32mis\u001b[0m \u001b[0;32mnot\u001b[0m \u001b[0;32mNone\u001b[0m\u001b[0;34m:\u001b[0m\u001b[0;34m\u001b[0m\u001b[0;34m\u001b[0m\u001b[0m\n\u001b[1;32m    928\u001b[0m       \u001b[0;31m# Release the lock early so that multiple threads can perform the call\u001b[0m\u001b[0;34m\u001b[0m\u001b[0;34m\u001b[0m\u001b[0m\n",
            "\u001b[0;32m/usr/local/lib/python3.9/dist-packages/tensorflow/python/eager/polymorphic_function/tracing_compiler.py\u001b[0m in \u001b[0;36m__call__\u001b[0;34m(self, *args, **kwargs)\u001b[0m\n\u001b[1;32m    141\u001b[0m       (concrete_function,\n\u001b[1;32m    142\u001b[0m        filtered_flat_args) = self._maybe_define_function(args, kwargs)\n\u001b[0;32m--> 143\u001b[0;31m     return concrete_function._call_flat(\n\u001b[0m\u001b[1;32m    144\u001b[0m         filtered_flat_args, captured_inputs=concrete_function.captured_inputs)  # pylint: disable=protected-access\n\u001b[1;32m    145\u001b[0m \u001b[0;34m\u001b[0m\u001b[0m\n",
            "\u001b[0;32m/usr/local/lib/python3.9/dist-packages/tensorflow/python/eager/polymorphic_function/monomorphic_function.py\u001b[0m in \u001b[0;36m_call_flat\u001b[0;34m(self, args, captured_inputs, cancellation_manager)\u001b[0m\n\u001b[1;32m   1755\u001b[0m         and executing_eagerly):\n\u001b[1;32m   1756\u001b[0m       \u001b[0;31m# No tape is watching; skip to running the function.\u001b[0m\u001b[0;34m\u001b[0m\u001b[0;34m\u001b[0m\u001b[0m\n\u001b[0;32m-> 1757\u001b[0;31m       return self._build_call_outputs(self._inference_function.call(\n\u001b[0m\u001b[1;32m   1758\u001b[0m           ctx, args, cancellation_manager=cancellation_manager))\n\u001b[1;32m   1759\u001b[0m     forward_backward = self._select_forward_and_backward_functions(\n",
            "\u001b[0;32m/usr/local/lib/python3.9/dist-packages/tensorflow/python/eager/polymorphic_function/monomorphic_function.py\u001b[0m in \u001b[0;36mcall\u001b[0;34m(self, ctx, args, cancellation_manager)\u001b[0m\n\u001b[1;32m    379\u001b[0m       \u001b[0;32mwith\u001b[0m \u001b[0m_InterpolateFunctionError\u001b[0m\u001b[0;34m(\u001b[0m\u001b[0mself\u001b[0m\u001b[0;34m)\u001b[0m\u001b[0;34m:\u001b[0m\u001b[0;34m\u001b[0m\u001b[0;34m\u001b[0m\u001b[0m\n\u001b[1;32m    380\u001b[0m         \u001b[0;32mif\u001b[0m \u001b[0mcancellation_manager\u001b[0m \u001b[0;32mis\u001b[0m \u001b[0;32mNone\u001b[0m\u001b[0;34m:\u001b[0m\u001b[0;34m\u001b[0m\u001b[0;34m\u001b[0m\u001b[0m\n\u001b[0;32m--> 381\u001b[0;31m           outputs = execute.execute(\n\u001b[0m\u001b[1;32m    382\u001b[0m               \u001b[0mstr\u001b[0m\u001b[0;34m(\u001b[0m\u001b[0mself\u001b[0m\u001b[0;34m.\u001b[0m\u001b[0msignature\u001b[0m\u001b[0;34m.\u001b[0m\u001b[0mname\u001b[0m\u001b[0;34m)\u001b[0m\u001b[0;34m,\u001b[0m\u001b[0;34m\u001b[0m\u001b[0;34m\u001b[0m\u001b[0m\n\u001b[1;32m    383\u001b[0m               \u001b[0mnum_outputs\u001b[0m\u001b[0;34m=\u001b[0m\u001b[0mself\u001b[0m\u001b[0;34m.\u001b[0m\u001b[0m_num_outputs\u001b[0m\u001b[0;34m,\u001b[0m\u001b[0;34m\u001b[0m\u001b[0;34m\u001b[0m\u001b[0m\n",
            "\u001b[0;32m/usr/local/lib/python3.9/dist-packages/tensorflow/python/eager/execute.py\u001b[0m in \u001b[0;36mquick_execute\u001b[0;34m(op_name, num_outputs, inputs, attrs, ctx, name)\u001b[0m\n\u001b[1;32m     50\u001b[0m   \u001b[0;32mtry\u001b[0m\u001b[0;34m:\u001b[0m\u001b[0;34m\u001b[0m\u001b[0;34m\u001b[0m\u001b[0m\n\u001b[1;32m     51\u001b[0m     \u001b[0mctx\u001b[0m\u001b[0;34m.\u001b[0m\u001b[0mensure_initialized\u001b[0m\u001b[0;34m(\u001b[0m\u001b[0;34m)\u001b[0m\u001b[0;34m\u001b[0m\u001b[0;34m\u001b[0m\u001b[0m\n\u001b[0;32m---> 52\u001b[0;31m     tensors = pywrap_tfe.TFE_Py_Execute(ctx._handle, device_name, op_name,\n\u001b[0m\u001b[1;32m     53\u001b[0m                                         inputs, attrs, num_outputs)\n\u001b[1;32m     54\u001b[0m   \u001b[0;32mexcept\u001b[0m \u001b[0mcore\u001b[0m\u001b[0;34m.\u001b[0m\u001b[0m_NotOkStatusException\u001b[0m \u001b[0;32mas\u001b[0m \u001b[0me\u001b[0m\u001b[0;34m:\u001b[0m\u001b[0;34m\u001b[0m\u001b[0;34m\u001b[0m\u001b[0m\n",
            "\u001b[0;31mKeyboardInterrupt\u001b[0m: "
          ]
        }
      ],
      "source": [
        "history = model.fit(train_generator, epochs=25, steps_per_epoch=20, validation_data = validation_generator, verbose = 1, validation_steps=3)\n",
        "model.save(\"apple_cnn\")"
      ]
    },
    {
      "cell_type": "code",
      "source": [
        "score = cnn_model.evaluate(test_generator, steps=test_generator.samples//32)\n",
        "\n",
        "print('Test loss:', score[0])\n",
        "print('Test accuracy:', score[1])"
      ],
      "metadata": {
        "id": "GGrj8Qm6W-1i",
        "colab": {
          "base_uri": "https://localhost:8080/"
        },
        "outputId": "4cc5dfa9-2ff0-46e6-8a34-27322a231330"
      },
      "execution_count": null,
      "outputs": [
        {
          "output_type": "stream",
          "name": "stdout",
          "text": [
            "4/4 [==============================] - 9s 2s/step - loss: 7.5936 - accuracy: 0.4922\n",
            "Test loss: 7.593569755554199\n",
            "Test accuracy: 0.4921875\n"
          ]
        }
      ]
    },
    {
      "cell_type": "code",
      "source": [
        "probability_model = tf.keras.Sequential([cnn_model,tf.keras.layers.Softmax()])"
      ],
      "metadata": {
        "id": "OX9wEDzApUeK"
      },
      "execution_count": null,
      "outputs": []
    },
    {
      "cell_type": "code",
      "source": [
        "test_generator.classes[150]"
      ],
      "metadata": {
        "id": "RPfB-OTbqJS4"
      },
      "execution_count": null,
      "outputs": []
    },
    {
      "cell_type": "code",
      "source": [
        "prediction= probability_model.predict(test_generator)\n",
        "b=prediction[8]\n",
        "print(b)"
      ],
      "metadata": {
        "id": "qIjOo0Hxqume"
      },
      "execution_count": null,
      "outputs": []
    },
    {
      "cell_type": "code",
      "source": [
        "np.argmax(b)"
      ],
      "metadata": {
        "id": "2Aeh7eCurSx-"
      },
      "execution_count": null,
      "outputs": []
    },
    {
      "cell_type": "markdown",
      "source": [
        "### **Loading Model**"
      ],
      "metadata": {
        "id": "uH9UnLXidIsN"
      }
    },
    {
      "cell_type": "code",
      "source": [
        "model = keras.models.load_model('cnn_model.h5')"
      ],
      "metadata": {
        "id": "rfsFkDxLdOny"
      },
      "execution_count": null,
      "outputs": []
    },
    {
      "cell_type": "markdown",
      "source": [
        "# **Fine-Tuning Model**"
      ],
      "metadata": {
        "id": "d8LU8Nqk7y-l"
      }
    },
    {
      "cell_type": "markdown",
      "source": [
        "### **Importing Libraries**"
      ],
      "metadata": {
        "id": "1e6r3ZiTAPSv"
      }
    },
    {
      "cell_type": "code",
      "source": [
        "from tensorflow.keras.applications import VGG16\n",
        "from tensorflow.keras.callbacks import EarlyStopping, ReduceLROnPlateau"
      ],
      "metadata": {
        "id": "otR6LWAmAWN9"
      },
      "execution_count": null,
      "outputs": []
    },
    {
      "cell_type": "markdown",
      "source": [
        "### **Load the pre-trained VGG16 model**"
      ],
      "metadata": {
        "id": "HINmqscAAa0m"
      }
    },
    {
      "cell_type": "code",
      "source": [
        "vgg_model = VGG16(weights='imagenet', include_top=False, input_shape=(224, 224, 3))"
      ],
      "metadata": {
        "id": "Ypci4wCZAhda"
      },
      "execution_count": null,
      "outputs": []
    },
    {
      "cell_type": "markdown",
      "source": [
        "### **Freezing Layers**"
      ],
      "metadata": {
        "id": "ZM1AL-nzAsrg"
      }
    },
    {
      "cell_type": "code",
      "source": [
        "for layer in vgg_model.layers[:15]:\n",
        "    layer.trainable = False"
      ],
      "metadata": {
        "id": "S2zwvvO5Alyz"
      },
      "execution_count": null,
      "outputs": []
    },
    {
      "cell_type": "markdown",
      "source": [
        "### **Adding New Layers**"
      ],
      "metadata": {
        "id": "HWfYgKNwA2lq"
      }
    },
    {
      "cell_type": "code",
      "source": [
        "finetune_model = Sequential()\n",
        "finetune_model.add(vgg_model)\n",
        "finetune_model.add(Flatten())\n",
        "finetune_model.add(Dense(512, activation='relu'))\n",
        "finetune_model.add(Dropout(0.5))\n",
        "finetune_model.add(Dense(256, activation='relu'))\n",
        "finetune_model.add(Dropout(0.5))\n",
        "finetune_model.add(Dense(3, activation='softmax'))"
      ],
      "metadata": {
        "id": "s9D-QHBSA-tk"
      },
      "execution_count": null,
      "outputs": []
    },
    {
      "cell_type": "markdown",
      "source": [
        "### **Compiling Model**"
      ],
      "metadata": {
        "id": "JnCQ3O4vBTQZ"
      }
    },
    {
      "cell_type": "code",
      "source": [
        "finetune_model.compile(optimizer=Adam(learning_rate=0.0001),\n",
        "              loss='categorical_crossentropy',\n",
        "              metrics=['accuracy'])\n",
        "\n",
        "early_stopping = EarlyStopping(monitor='val_loss', patience=10, verbose=1, mode='min', restore_best_weights=True)\n",
        "reduce_learning_rate = ReduceLROnPlateau(monitor='val_loss', factor=0.2, patience=5, verbose=1, mode='min', min_learning_rate=0.00001)"
      ],
      "metadata": {
        "id": "081sLid9BXXr"
      },
      "execution_count": null,
      "outputs": []
    },
    {
      "cell_type": "markdown",
      "source": [
        "### **Weights Conversion**"
      ],
      "metadata": {
        "id": "o_yYbvrLB1pJ"
      }
    },
    {
      "cell_type": "code",
      "source": [
        "import torch\n",
        "class_weights_dict = torch.load('/content/drive/MyDrive/yoloV8_dataset/runs/detect/train3/weights/best.pt')\n",
        "class_weights = {}\n",
        "print(class_weights_dict.keys())\n",
        "for i, weight in enumerate(class_weights_dict['best_fitness']):\n",
        "    class_weights[i] = weight.item()"
      ],
      "metadata": {
        "colab": {
          "base_uri": "https://localhost:8080/",
          "height": 235
        },
        "id": "mn5rLmlpB7fT",
        "outputId": "4ee502d6-da97-4e60-9b32-939a16ce586a"
      },
      "execution_count": null,
      "outputs": [
        {
          "output_type": "stream",
          "name": "stdout",
          "text": [
            "dict_keys(['epoch', 'best_fitness', 'model', 'ema', 'updates', 'optimizer', 'train_args', 'date', 'version'])\n"
          ]
        },
        {
          "output_type": "error",
          "ename": "TypeError",
          "evalue": "ignored",
          "traceback": [
            "\u001b[0;31m---------------------------------------------------------------------------\u001b[0m",
            "\u001b[0;31mTypeError\u001b[0m                                 Traceback (most recent call last)",
            "\u001b[0;32m<ipython-input-75-17c46d5b30b3>\u001b[0m in \u001b[0;36m<cell line: 5>\u001b[0;34m()\u001b[0m\n\u001b[1;32m      3\u001b[0m \u001b[0mclass_weights\u001b[0m \u001b[0;34m=\u001b[0m \u001b[0;34m{\u001b[0m\u001b[0;34m}\u001b[0m\u001b[0;34m\u001b[0m\u001b[0;34m\u001b[0m\u001b[0m\n\u001b[1;32m      4\u001b[0m \u001b[0mprint\u001b[0m\u001b[0;34m(\u001b[0m\u001b[0mclass_weights_dict\u001b[0m\u001b[0;34m.\u001b[0m\u001b[0mkeys\u001b[0m\u001b[0;34m(\u001b[0m\u001b[0;34m)\u001b[0m\u001b[0;34m)\u001b[0m\u001b[0;34m\u001b[0m\u001b[0;34m\u001b[0m\u001b[0m\n\u001b[0;32m----> 5\u001b[0;31m \u001b[0;32mfor\u001b[0m \u001b[0mi\u001b[0m\u001b[0;34m,\u001b[0m \u001b[0mweight\u001b[0m \u001b[0;32min\u001b[0m \u001b[0menumerate\u001b[0m\u001b[0;34m(\u001b[0m\u001b[0mclass_weights_dict\u001b[0m\u001b[0;34m[\u001b[0m\u001b[0;34m'best_fitness'\u001b[0m\u001b[0;34m]\u001b[0m\u001b[0;34m)\u001b[0m\u001b[0;34m:\u001b[0m\u001b[0;34m\u001b[0m\u001b[0;34m\u001b[0m\u001b[0m\n\u001b[0m\u001b[1;32m      6\u001b[0m     \u001b[0mclass_weights\u001b[0m\u001b[0;34m[\u001b[0m\u001b[0mi\u001b[0m\u001b[0;34m]\u001b[0m \u001b[0;34m=\u001b[0m \u001b[0mweight\u001b[0m\u001b[0;34m.\u001b[0m\u001b[0mitem\u001b[0m\u001b[0;34m(\u001b[0m\u001b[0;34m)\u001b[0m\u001b[0;34m\u001b[0m\u001b[0;34m\u001b[0m\u001b[0m\n",
            "\u001b[0;31mTypeError\u001b[0m: 'NoneType' object is not iterable"
          ]
        }
      ]
    },
    {
      "cell_type": "markdown",
      "source": [
        "### **Model Training**"
      ],
      "metadata": {
        "id": "n1YzJV5oBlDc"
      }
    },
    {
      "cell_type": "code",
      "source": [
        "history = finetune_model.fit(\n",
        "    train_generator,\n",
        "    steps_per_epoch=train_generator.samples//32,\n",
        "    epochs=150,\n",
        "    validation_data=val_generator,\n",
        "    validation_steps=val_generator.samples//32,\n",
        "    callbacks=[early_stopping, reduce_learning_rate],\n",
        "    class_weight=class_weights)"
      ],
      "metadata": {
        "id": "VM0YHPN1BkPG"
      },
      "execution_count": null,
      "outputs": []
    },
    {
      "cell_type": "code",
      "source": [
        "# Save the model\n",
        "finetune_model.save('finetuned_model.h5')\n"
      ],
      "metadata": {
        "id": "B964ivAo7Dzu"
      },
      "execution_count": null,
      "outputs": []
    },
    {
      "cell_type": "markdown",
      "metadata": {
        "id": "YZ0K4unzmjeT"
      },
      "source": [
        "# **YOLOv8 Model**"
      ]
    },
    {
      "cell_type": "markdown",
      "metadata": {
        "id": "CEMNXjDTFY4B"
      },
      "source": [
        "### **Installing Ultralytics**"
      ]
    },
    {
      "cell_type": "code",
      "execution_count": null,
      "metadata": {
        "colab": {
          "base_uri": "https://localhost:8080/"
        },
        "id": "mKuL-Ve8k8uZ",
        "outputId": "d5c2d5f2-92bb-41ce-f28d-8f8eae46153c"
      },
      "outputs": [
        {
          "output_type": "stream",
          "name": "stdout",
          "text": [
            "Looking in indexes: https://pypi.org/simple, https://us-python.pkg.dev/colab-wheels/public/simple/\n",
            "Collecting ultralytics\n",
            "  Downloading ultralytics-8.0.86-py3-none-any.whl (530 kB)\n",
            "\u001b[2K     \u001b[90m━━━━━━━━━━━━━━━━━━━━━━━━━━━━━━━━━━━━━━\u001b[0m \u001b[32m530.3/530.3 kB\u001b[0m \u001b[31m14.0 MB/s\u001b[0m eta \u001b[36m0:00:00\u001b[0m\n",
            "\u001b[?25hRequirement already satisfied: pandas>=1.1.4 in /usr/local/lib/python3.9/dist-packages (from ultralytics) (1.5.3)\n",
            "Requirement already satisfied: requests>=2.23.0 in /usr/local/lib/python3.9/dist-packages (from ultralytics) (2.27.1)\n",
            "Requirement already satisfied: matplotlib>=3.2.2 in /usr/local/lib/python3.9/dist-packages (from ultralytics) (3.7.1)\n",
            "Requirement already satisfied: PyYAML>=5.3.1 in /usr/local/lib/python3.9/dist-packages (from ultralytics) (6.0)\n",
            "Requirement already satisfied: scipy>=1.4.1 in /usr/local/lib/python3.9/dist-packages (from ultralytics) (1.10.1)\n",
            "Requirement already satisfied: numpy>=1.21.6 in /usr/local/lib/python3.9/dist-packages (from ultralytics) (1.22.4)\n",
            "Requirement already satisfied: Pillow>=7.1.2 in /usr/local/lib/python3.9/dist-packages (from ultralytics) (8.4.0)\n",
            "Collecting sentry-sdk\n",
            "  Downloading sentry_sdk-1.20.0-py2.py3-none-any.whl (198 kB)\n",
            "\u001b[2K     \u001b[90m━━━━━━━━━━━━━━━━━━━━━━━━━━━━━━━━━━━━━━\u001b[0m \u001b[32m198.8/198.8 kB\u001b[0m \u001b[31m16.2 MB/s\u001b[0m eta \u001b[36m0:00:00\u001b[0m\n",
            "\u001b[?25hRequirement already satisfied: seaborn>=0.11.0 in /usr/local/lib/python3.9/dist-packages (from ultralytics) (0.12.2)\n",
            "Collecting thop>=0.1.1\n",
            "  Downloading thop-0.1.1.post2209072238-py3-none-any.whl (15 kB)\n",
            "Requirement already satisfied: tqdm>=4.64.0 in /usr/local/lib/python3.9/dist-packages (from ultralytics) (4.65.0)\n",
            "Requirement already satisfied: torch>=1.7.0 in /usr/local/lib/python3.9/dist-packages (from ultralytics) (2.0.0+cu118)\n",
            "Requirement already satisfied: opencv-python>=4.6.0 in /usr/local/lib/python3.9/dist-packages (from ultralytics) (4.7.0.72)\n",
            "Requirement already satisfied: torchvision>=0.8.1 in /usr/local/lib/python3.9/dist-packages (from ultralytics) (0.15.1+cu118)\n",
            "Requirement already satisfied: psutil in /usr/local/lib/python3.9/dist-packages (from ultralytics) (5.9.5)\n",
            "Requirement already satisfied: packaging>=20.0 in /usr/local/lib/python3.9/dist-packages (from matplotlib>=3.2.2->ultralytics) (23.1)\n",
            "Requirement already satisfied: importlib-resources>=3.2.0 in /usr/local/lib/python3.9/dist-packages (from matplotlib>=3.2.2->ultralytics) (5.12.0)\n",
            "Requirement already satisfied: kiwisolver>=1.0.1 in /usr/local/lib/python3.9/dist-packages (from matplotlib>=3.2.2->ultralytics) (1.4.4)\n",
            "Requirement already satisfied: python-dateutil>=2.7 in /usr/local/lib/python3.9/dist-packages (from matplotlib>=3.2.2->ultralytics) (2.8.2)\n",
            "Requirement already satisfied: fonttools>=4.22.0 in /usr/local/lib/python3.9/dist-packages (from matplotlib>=3.2.2->ultralytics) (4.39.3)\n",
            "Requirement already satisfied: cycler>=0.10 in /usr/local/lib/python3.9/dist-packages (from matplotlib>=3.2.2->ultralytics) (0.11.0)\n",
            "Requirement already satisfied: contourpy>=1.0.1 in /usr/local/lib/python3.9/dist-packages (from matplotlib>=3.2.2->ultralytics) (1.0.7)\n",
            "Requirement already satisfied: pyparsing>=2.3.1 in /usr/local/lib/python3.9/dist-packages (from matplotlib>=3.2.2->ultralytics) (3.0.9)\n",
            "Requirement already satisfied: pytz>=2020.1 in /usr/local/lib/python3.9/dist-packages (from pandas>=1.1.4->ultralytics) (2022.7.1)\n",
            "Requirement already satisfied: charset-normalizer~=2.0.0 in /usr/local/lib/python3.9/dist-packages (from requests>=2.23.0->ultralytics) (2.0.12)\n",
            "Requirement already satisfied: urllib3<1.27,>=1.21.1 in /usr/local/lib/python3.9/dist-packages (from requests>=2.23.0->ultralytics) (1.26.15)\n",
            "Requirement already satisfied: certifi>=2017.4.17 in /usr/local/lib/python3.9/dist-packages (from requests>=2.23.0->ultralytics) (2022.12.7)\n",
            "Requirement already satisfied: idna<4,>=2.5 in /usr/local/lib/python3.9/dist-packages (from requests>=2.23.0->ultralytics) (3.4)\n",
            "Requirement already satisfied: networkx in /usr/local/lib/python3.9/dist-packages (from torch>=1.7.0->ultralytics) (3.1)\n",
            "Requirement already satisfied: filelock in /usr/local/lib/python3.9/dist-packages (from torch>=1.7.0->ultralytics) (3.11.0)\n",
            "Requirement already satisfied: sympy in /usr/local/lib/python3.9/dist-packages (from torch>=1.7.0->ultralytics) (1.11.1)\n",
            "Requirement already satisfied: triton==2.0.0 in /usr/local/lib/python3.9/dist-packages (from torch>=1.7.0->ultralytics) (2.0.0)\n",
            "Requirement already satisfied: jinja2 in /usr/local/lib/python3.9/dist-packages (from torch>=1.7.0->ultralytics) (3.1.2)\n",
            "Requirement already satisfied: typing-extensions in /usr/local/lib/python3.9/dist-packages (from torch>=1.7.0->ultralytics) (4.5.0)\n",
            "Requirement already satisfied: cmake in /usr/local/lib/python3.9/dist-packages (from triton==2.0.0->torch>=1.7.0->ultralytics) (3.25.2)\n",
            "Requirement already satisfied: lit in /usr/local/lib/python3.9/dist-packages (from triton==2.0.0->torch>=1.7.0->ultralytics) (16.0.1)\n",
            "Requirement already satisfied: zipp>=3.1.0 in /usr/local/lib/python3.9/dist-packages (from importlib-resources>=3.2.0->matplotlib>=3.2.2->ultralytics) (3.15.0)\n",
            "Requirement already satisfied: six>=1.5 in /usr/local/lib/python3.9/dist-packages (from python-dateutil>=2.7->matplotlib>=3.2.2->ultralytics) (1.16.0)\n",
            "Requirement already satisfied: MarkupSafe>=2.0 in /usr/local/lib/python3.9/dist-packages (from jinja2->torch>=1.7.0->ultralytics) (2.1.2)\n",
            "Requirement already satisfied: mpmath>=0.19 in /usr/local/lib/python3.9/dist-packages (from sympy->torch>=1.7.0->ultralytics) (1.3.0)\n",
            "Installing collected packages: sentry-sdk, thop, ultralytics\n",
            "Successfully installed sentry-sdk-1.20.0 thop-0.1.1.post2209072238 ultralytics-8.0.86\n"
          ]
        }
      ],
      "source": [
        "!pip install ultralytics"
      ]
    },
    {
      "cell_type": "markdown",
      "metadata": {
        "id": "_gJQvMJHFmsY"
      },
      "source": [
        "### **Model Training**"
      ]
    },
    {
      "cell_type": "code",
      "execution_count": null,
      "metadata": {
        "id": "wK_jGdHmkijl"
      },
      "outputs": [],
      "source": [
        "root_dir = \"/content/drive/MyDrive/yoloV8_dataset\""
      ]
    },
    {
      "cell_type": "code",
      "execution_count": null,
      "metadata": {
        "colab": {
          "base_uri": "https://localhost:8080/"
        },
        "id": "b1eM99FVmpkO",
        "outputId": "95c6a562-1146-4912-b6a9-759857a9e9a7"
      },
      "outputs": [
        {
          "output_type": "stream",
          "name": "stderr",
          "text": [
            "\n",
            "                   from  n    params  module                                       arguments                     \n",
            "  0                  -1  1       928  ultralytics.nn.modules.Conv                  [3, 32, 3, 2]                 \n",
            "  1                  -1  1     18560  ultralytics.nn.modules.Conv                  [32, 64, 3, 2]                \n",
            "  2                  -1  1     29056  ultralytics.nn.modules.C2f                   [64, 64, 1, True]             \n",
            "  3                  -1  1     73984  ultralytics.nn.modules.Conv                  [64, 128, 3, 2]               \n",
            "  4                  -1  2    197632  ultralytics.nn.modules.C2f                   [128, 128, 2, True]           \n",
            "  5                  -1  1    295424  ultralytics.nn.modules.Conv                  [128, 256, 3, 2]              \n",
            "  6                  -1  2    788480  ultralytics.nn.modules.C2f                   [256, 256, 2, True]           \n",
            "  7                  -1  1   1180672  ultralytics.nn.modules.Conv                  [256, 512, 3, 2]              \n",
            "  8                  -1  1   1838080  ultralytics.nn.modules.C2f                   [512, 512, 1, True]           \n",
            "  9                  -1  1    656896  ultralytics.nn.modules.SPPF                  [512, 512, 5]                 \n",
            " 10                  -1  1         0  torch.nn.modules.upsampling.Upsample         [None, 2, 'nearest']          \n",
            " 11             [-1, 6]  1         0  ultralytics.nn.modules.Concat                [1]                           \n",
            " 12                  -1  1    591360  ultralytics.nn.modules.C2f                   [768, 256, 1]                 \n",
            " 13                  -1  1         0  torch.nn.modules.upsampling.Upsample         [None, 2, 'nearest']          \n",
            " 14             [-1, 4]  1         0  ultralytics.nn.modules.Concat                [1]                           \n",
            " 15                  -1  1    148224  ultralytics.nn.modules.C2f                   [384, 128, 1]                 \n",
            " 16                  -1  1    147712  ultralytics.nn.modules.Conv                  [128, 128, 3, 2]              \n",
            " 17            [-1, 12]  1         0  ultralytics.nn.modules.Concat                [1]                           \n",
            " 18                  -1  1    493056  ultralytics.nn.modules.C2f                   [384, 256, 1]                 \n",
            " 19                  -1  1    590336  ultralytics.nn.modules.Conv                  [256, 256, 3, 2]              \n",
            " 20             [-1, 9]  1         0  ultralytics.nn.modules.Concat                [1]                           \n",
            " 21                  -1  1   1969152  ultralytics.nn.modules.C2f                   [768, 512, 1]                 \n",
            " 22        [15, 18, 21]  1   2147008  ultralytics.nn.modules.Detect                [80, [128, 256, 512]]         \n",
            "YOLOv8s summary: 225 layers, 11166560 parameters, 11166544 gradients, 28.8 GFLOPs\n",
            "\n",
            "Ultralytics YOLOv8.0.82 🚀 Python-3.9.16 torch-2.0.0+cu118 CPU\n",
            "\u001b[34m\u001b[1myolo/engine/trainer: \u001b[0mtask=detect, mode=train, model=yolov8s.yaml, data=/content/drive/MyDrive/yoloV8_dataset/yoloV8_config.yaml, epochs=10, patience=50, batch=16, imgsz=640, save=True, save_period=-1, cache=False, device=None, workers=8, project=None, name=None, exist_ok=False, pretrained=False, optimizer=SGD, verbose=True, seed=0, deterministic=True, single_cls=False, image_weights=False, rect=False, cos_lr=False, close_mosaic=0, resume=False, amp=True, overlap_mask=True, mask_ratio=4, dropout=0.0, val=True, split=val, save_json=False, save_hybrid=False, conf=None, iou=0.7, max_det=300, half=False, dnn=False, plots=True, source=None, show=False, save_txt=False, save_conf=False, save_crop=False, show_labels=True, show_conf=True, vid_stride=1, line_thickness=3, visualize=False, augment=False, agnostic_nms=False, classes=None, retina_masks=False, boxes=True, format=torchscript, keras=False, optimize=False, int8=False, dynamic=False, simplify=False, opset=None, workspace=4, nms=False, lr0=0.01, lrf=0.01, momentum=0.937, weight_decay=0.0005, warmup_epochs=3.0, warmup_momentum=0.8, warmup_bias_lr=0.1, box=7.5, cls=0.5, dfl=1.5, pose=12.0, kobj=1.0, label_smoothing=0.0, nbs=64, hsv_h=0.015, hsv_s=0.7, hsv_v=0.4, degrees=0.0, translate=0.1, scale=0.5, shear=0.0, perspective=0.0, flipud=0.0, fliplr=0.5, mosaic=1.0, mixup=0.0, copy_paste=0.0, cfg=None, v5loader=False, tracker=botsort.yaml, save_dir=runs/detect/train3\n",
            "Overriding model.yaml nc=80 with nc=3\n",
            "\n",
            "                   from  n    params  module                                       arguments                     \n",
            "  0                  -1  1       928  ultralytics.nn.modules.Conv                  [3, 32, 3, 2]                 \n",
            "  1                  -1  1     18560  ultralytics.nn.modules.Conv                  [32, 64, 3, 2]                \n",
            "  2                  -1  1     29056  ultralytics.nn.modules.C2f                   [64, 64, 1, True]             \n",
            "  3                  -1  1     73984  ultralytics.nn.modules.Conv                  [64, 128, 3, 2]               \n",
            "  4                  -1  2    197632  ultralytics.nn.modules.C2f                   [128, 128, 2, True]           \n",
            "  5                  -1  1    295424  ultralytics.nn.modules.Conv                  [128, 256, 3, 2]              \n",
            "  6                  -1  2    788480  ultralytics.nn.modules.C2f                   [256, 256, 2, True]           \n",
            "  7                  -1  1   1180672  ultralytics.nn.modules.Conv                  [256, 512, 3, 2]              \n",
            "  8                  -1  1   1838080  ultralytics.nn.modules.C2f                   [512, 512, 1, True]           \n",
            "  9                  -1  1    656896  ultralytics.nn.modules.SPPF                  [512, 512, 5]                 \n",
            " 10                  -1  1         0  torch.nn.modules.upsampling.Upsample         [None, 2, 'nearest']          \n",
            " 11             [-1, 6]  1         0  ultralytics.nn.modules.Concat                [1]                           \n",
            " 12                  -1  1    591360  ultralytics.nn.modules.C2f                   [768, 256, 1]                 \n",
            " 13                  -1  1         0  torch.nn.modules.upsampling.Upsample         [None, 2, 'nearest']          \n",
            " 14             [-1, 4]  1         0  ultralytics.nn.modules.Concat                [1]                           \n",
            " 15                  -1  1    148224  ultralytics.nn.modules.C2f                   [384, 128, 1]                 \n",
            " 16                  -1  1    147712  ultralytics.nn.modules.Conv                  [128, 128, 3, 2]              \n",
            " 17            [-1, 12]  1         0  ultralytics.nn.modules.Concat                [1]                           \n",
            " 18                  -1  1    493056  ultralytics.nn.modules.C2f                   [384, 256, 1]                 \n",
            " 19                  -1  1    590336  ultralytics.nn.modules.Conv                  [256, 256, 3, 2]              \n",
            " 20             [-1, 9]  1         0  ultralytics.nn.modules.Concat                [1]                           \n",
            " 21                  -1  1   1969152  ultralytics.nn.modules.C2f                   [768, 512, 1]                 \n",
            " 22        [15, 18, 21]  1   2117209  ultralytics.nn.modules.Detect                [3, [128, 256, 512]]          \n",
            "YOLOv8s summary: 225 layers, 11136761 parameters, 11136745 gradients, 28.7 GFLOPs\n",
            "\n",
            "\u001b[34m\u001b[1mTensorBoard: \u001b[0mStart with 'tensorboard --logdir runs/detect/train3', view at http://localhost:6006/\n",
            "\u001b[34m\u001b[1moptimizer:\u001b[0m SGD(lr=0.01) with parameter groups 57 weight(decay=0.0), 64 weight(decay=0.0005), 63 bias\n",
            "\u001b[34m\u001b[1mtrain: \u001b[0mScanning /content/drive/MyDrive/yoloV8_dataset/labels/train/overripe.cache... 312 images, 0 backgrounds, 0 corrupt: 100%|██████████| 312/312 [00:00<?, ?it/s]\n",
            "\u001b[34m\u001b[1malbumentations: \u001b[0mBlur(p=0.01, blur_limit=(3, 7)), MedianBlur(p=0.01, blur_limit=(3, 7)), ToGray(p=0.01), CLAHE(p=0.01, clip_limit=(1, 4.0), tile_grid_size=(8, 8))\n",
            "\u001b[34m\u001b[1mval: \u001b[0mScanning /content/drive/MyDrive/yoloV8_dataset/labels/val/overripe.cache... 150 images, 0 backgrounds, 0 corrupt: 100%|██████████| 150/150 [00:00<?, ?it/s]\n",
            "Plotting labels to runs/detect/train3/labels.jpg... \n",
            "Image sizes 640 train, 640 val\n",
            "Using 0 dataloader workers\n",
            "Logging results to \u001b[1mruns/detect/train3\u001b[0m\n",
            "Starting training for 10 epochs...\n",
            "\n",
            "      Epoch    GPU_mem   box_loss   cls_loss   dfl_loss  Instances       Size\n",
            "       1/10         0G      3.001       3.62      4.161         26        640: 100%|██████████| 20/20 [11:54<00:00, 35.74s/it]\n",
            "                 Class     Images  Instances      Box(P          R      mAP50  mAP50-95): 100%|██████████| 5/5 [02:17<00:00, 27.52s/it]\n",
            "                   all        150        150     0.0041          1     0.0195    0.00477\n",
            "\n",
            "      Epoch    GPU_mem   box_loss   cls_loss   dfl_loss  Instances       Size\n",
            "       2/10         0G       2.94        3.5      4.072         21        640: 100%|██████████| 20/20 [11:13<00:00, 33.65s/it]\n",
            "                 Class     Images  Instances      Box(P          R      mAP50  mAP50-95): 100%|██████████| 5/5 [01:34<00:00, 18.90s/it]\n",
            "                   all        150        150    0.00407          1      0.019    0.00446\n",
            "\n",
            "      Epoch    GPU_mem   box_loss   cls_loss   dfl_loss  Instances       Size\n",
            "       3/10         0G       2.79      3.382      3.941         19        640: 100%|██████████| 20/20 [10:46<00:00, 32.32s/it]\n",
            "                 Class     Images  Instances      Box(P          R      mAP50  mAP50-95): 100%|██████████| 5/5 [01:35<00:00, 19.19s/it]\n",
            "                   all        150        150     0.0037          1     0.0825     0.0134\n",
            "\n",
            "      Epoch    GPU_mem   box_loss   cls_loss   dfl_loss  Instances       Size\n",
            "       4/10         0G      2.626      3.205      3.768         18        640: 100%|██████████| 20/20 [10:52<00:00, 32.61s/it]\n",
            "                 Class     Images  Instances      Box(P          R      mAP50  mAP50-95): 100%|██████████| 5/5 [01:42<00:00, 20.44s/it]\n",
            "                   all        150        150    0.00356          1      0.122     0.0274\n",
            "\n",
            "      Epoch    GPU_mem   box_loss   cls_loss   dfl_loss  Instances       Size\n",
            "       5/10         0G      2.511      3.072      3.608         24        640: 100%|██████████| 20/20 [10:41<00:00, 32.09s/it]\n",
            "                 Class     Images  Instances      Box(P          R      mAP50  mAP50-95): 100%|██████████| 5/5 [01:32<00:00, 18.53s/it]\n",
            "                   all        150        150    0.00466          1      0.381      0.174\n",
            "\n",
            "      Epoch    GPU_mem   box_loss   cls_loss   dfl_loss  Instances       Size\n",
            "       6/10         0G      2.265      2.907      3.385         26        640: 100%|██████████| 20/20 [10:48<00:00, 32.42s/it]\n",
            "                 Class     Images  Instances      Box(P          R      mAP50  mAP50-95): 100%|██████████| 5/5 [01:36<00:00, 19.26s/it]\n",
            "                   all        150        150    0.00656          1       0.13     0.0552\n",
            "\n",
            "      Epoch    GPU_mem   box_loss   cls_loss   dfl_loss  Instances       Size\n",
            "       7/10         0G      2.031      2.794      3.163         17        640: 100%|██████████| 20/20 [10:45<00:00, 32.27s/it]\n",
            "                 Class     Images  Instances      Box(P          R      mAP50  mAP50-95): 100%|██████████| 5/5 [01:35<00:00, 19.01s/it]\n",
            "                   all        150        150    0.00451          1      0.379      0.211\n",
            "\n",
            "      Epoch    GPU_mem   box_loss   cls_loss   dfl_loss  Instances       Size\n",
            "       8/10         0G      1.822      2.526      2.946         24        640: 100%|██████████| 20/20 [10:39<00:00, 31.99s/it]\n",
            "                 Class     Images  Instances      Box(P          R      mAP50  mAP50-95): 100%|██████████| 5/5 [01:34<00:00, 18.92s/it]\n",
            "                   all        150        150      0.264      0.502      0.351       0.19\n",
            "\n",
            "      Epoch    GPU_mem   box_loss   cls_loss   dfl_loss  Instances       Size\n",
            "       9/10         0G       1.67      2.348      2.795         27        640: 100%|██████████| 20/20 [10:38<00:00, 31.94s/it]\n",
            "                 Class     Images  Instances      Box(P          R      mAP50  mAP50-95): 100%|██████████| 5/5 [01:34<00:00, 18.88s/it]\n",
            "                   all        150        150      0.447      0.747      0.583       0.36\n",
            "\n",
            "      Epoch    GPU_mem   box_loss   cls_loss   dfl_loss  Instances       Size\n",
            "      10/10         0G      1.594      2.226      2.644         24        640: 100%|██████████| 20/20 [10:54<00:00, 32.72s/it]\n",
            "                 Class     Images  Instances      Box(P          R      mAP50  mAP50-95): 100%|██████████| 5/5 [01:40<00:00, 20.08s/it]\n",
            "                   all        150        150      0.625      0.735      0.669      0.428\n",
            "\n",
            "10 epochs completed in 2.102 hours.\n",
            "Optimizer stripped from runs/detect/train3/weights/last.pt, 22.5MB\n",
            "Optimizer stripped from runs/detect/train3/weights/best.pt, 22.5MB\n",
            "\n",
            "Validating runs/detect/train3/weights/best.pt...\n",
            "Ultralytics YOLOv8.0.82 🚀 Python-3.9.16 torch-2.0.0+cu118 CPU\n",
            "YOLOv8s summary (fused): 168 layers, 11126745 parameters, 0 gradients, 28.4 GFLOPs\n",
            "                 Class     Images  Instances      Box(P          R      mAP50  mAP50-95): 100%|██████████| 5/5 [01:34<00:00, 18.98s/it]\n",
            "                   all        150        150      0.624      0.735      0.669      0.429\n",
            "                  ripe        150         50      0.339       0.88      0.469      0.287\n",
            "                unripe        150         50      0.639      0.424      0.583      0.367\n",
            "              overripe        150         50      0.894        0.9      0.955      0.633\n",
            "Speed: 2.3ms preprocess, 602.7ms inference, 0.0ms loss, 3.6ms postprocess per image\n",
            "Results saved to \u001b[1mruns/detect/train3\u001b[0m\n"
          ]
        }
      ],
      "source": [
        "import os\n",
        "from ultralytics import YOLO\n",
        "model = YOLO(\"yolov8s.yaml\")  # Choosing the yoloV8 medium version to get better accuracy\n",
        "results = model.train(data=os.path.join(root_dir, \"yoloV8_config.yaml\"), epochs=10)  #model training\n",
        "results = model.val(data=os.path.join(root_dir, \"yoloV8_config.yaml\"), epochs=10)"
      ]
    },
    {
      "cell_type": "markdown",
      "source": [
        "### **Moving the runs file to the model directory**"
      ],
      "metadata": {
        "id": "Ut5zM0tqmRds"
      }
    },
    {
      "cell_type": "code",
      "source": [
        "!scp -r /content/runs '/content/drive/MyDrive/yoloV8_dataset'"
      ],
      "metadata": {
        "id": "2q_U1Ktul46W"
      },
      "execution_count": null,
      "outputs": []
    },
    {
      "cell_type": "code",
      "source": [
        "import tensorflow as tf\n",
        "model = tf.keras.models.Sequential()\n",
        "model.add(Conv2D(32, (3, 3), activation='relu', input_shape=(224, 224, 3)))\n",
        "model.add(MaxPooling2D((2, 2)))\n",
        "model.add(Conv2D(64, (3, 3), activation='relu'))\n",
        "model.add(MaxPooling2D((2, 2)))\n",
        "model.add(Conv2D(128, (3, 3), activation='relu'))\n",
        "model.add(MaxPooling2D((2, 2)))\n",
        "model.add(Conv2D(256, (3, 3), activation='relu'))\n",
        "model.add(MaxPooling2D((2, 2)))\n",
        "\n",
        "model.add(Flatten())\n",
        "\n",
        "model.add(Dense(512, activation='relu'))\n",
        "model.add(Dropout(0.5))\n",
        "model.add(Dense(256, activation='relu'))\n",
        "model.add(Dropout(0.5))\n",
        "model.add(Dense(3, activation='softmax'))\n",
        "\n",
        "model.compile(optimizer='adam', loss='mse')\n",
        "model.save(\"yolov8_model.h5\")"
      ],
      "metadata": {
        "colab": {
          "base_uri": "https://localhost:8080/",
          "height": 234
        },
        "id": "aZ27WcJh33D7",
        "outputId": "317333cf-5c02-4daf-aed8-bff731b6ec28"
      },
      "execution_count": null,
      "outputs": [
        {
          "output_type": "error",
          "ename": "NameError",
          "evalue": "ignored",
          "traceback": [
            "\u001b[0;31m---------------------------------------------------------------------------\u001b[0m",
            "\u001b[0;31mNameError\u001b[0m                                 Traceback (most recent call last)",
            "\u001b[0;32m<ipython-input-1-7a827599efe4>\u001b[0m in \u001b[0;36m<cell line: 3>\u001b[0;34m()\u001b[0m\n\u001b[1;32m      1\u001b[0m \u001b[0;32mimport\u001b[0m \u001b[0mtensorflow\u001b[0m \u001b[0;32mas\u001b[0m \u001b[0mtf\u001b[0m\u001b[0;34m\u001b[0m\u001b[0;34m\u001b[0m\u001b[0m\n\u001b[1;32m      2\u001b[0m \u001b[0;34m\u001b[0m\u001b[0m\n\u001b[0;32m----> 3\u001b[0;31m \u001b[0mmodel\u001b[0m \u001b[0;34m=\u001b[0m \u001b[0mtf\u001b[0m\u001b[0;34m.\u001b[0m\u001b[0mkeras\u001b[0m\u001b[0;34m.\u001b[0m\u001b[0mmodels\u001b[0m\u001b[0;34m.\u001b[0m\u001b[0mSequential\u001b[0m\u001b[0;34m(\u001b[0m\u001b[0;34m[\u001b[0m\u001b[0myolov8s\u001b[0m\u001b[0;34m.\u001b[0m\u001b[0myaml\u001b[0m\u001b[0;34m]\u001b[0m\u001b[0;34m)\u001b[0m\u001b[0;34m\u001b[0m\u001b[0;34m\u001b[0m\u001b[0m\n\u001b[0m\u001b[1;32m      4\u001b[0m \u001b[0mmodel\u001b[0m\u001b[0;34m.\u001b[0m\u001b[0mfit\u001b[0m\u001b[0;34m(\u001b[0m\u001b[0mx_train\u001b[0m\u001b[0;34m,\u001b[0m \u001b[0my_train\u001b[0m\u001b[0;34m,\u001b[0m \u001b[0mepochs\u001b[0m\u001b[0;34m=\u001b[0m\u001b[0;36m10\u001b[0m\u001b[0;34m)\u001b[0m\u001b[0;34m\u001b[0m\u001b[0;34m\u001b[0m\u001b[0m\n\u001b[1;32m      5\u001b[0m \u001b[0mmodel\u001b[0m\u001b[0;34m.\u001b[0m\u001b[0msave\u001b[0m\u001b[0;34m(\u001b[0m\u001b[0;34m\"yolov8_model.h5\"\u001b[0m\u001b[0;34m)\u001b[0m\u001b[0;34m\u001b[0m\u001b[0;34m\u001b[0m\u001b[0m\n",
            "\u001b[0;31mNameError\u001b[0m: name 'yolov8s' is not defined"
          ]
        }
      ]
    },
    {
      "cell_type": "markdown",
      "source": [
        "# **Testing**"
      ],
      "metadata": {
        "id": "ulhiXCPPq7wA"
      }
    },
    {
      "cell_type": "markdown",
      "source": [
        "### **For Ripe Apples**"
      ],
      "metadata": {
        "id": "Q0qMz9ESU6Yx"
      }
    },
    {
      "cell_type": "code",
      "source": [
        "import os\n",
        "from ultralytics import YOLO\n",
        "import cv2\n",
        "\n",
        "\n",
        "ripe_images_dir = os.path.join('.', '/content/drive/MyDrive/yoloV8_dataset/images/test/ripe')\n",
        "ripe_output_dir = os.path.join('.', '/content/drive/MyDrive/yoloV8_dataset/images/test/ripe_output/')\n",
        "\n",
        "unripe_images_dir = os.path.join('.', '/content/drive/MyDrive/yoloV8_dataset/images/test/unripe')\n",
        "unripe_output_dir = os.path.join('.', '/content/drive/MyDrive/yoloV8_dataset/images/test/unripe_output/')\n",
        "\n",
        "ripe_images_dir = os.path.join('.', '/content/drive/MyDrive/yoloV8_dataset/images/test/overripe')\n",
        "ripe_output_dir = os.path.join('.', '/content/drive/MyDrive/yoloV8_dataset/images/test/overripe_output')\n",
        "\n",
        "\n",
        "model_path = os.path.join('.', '/content/drive/MyDrive/yoloV8_dataset/runs', '/content/drive/MyDrive/yoloV8_dataset/runs/detect', '/content/drive/MyDrive/yoloV8_dataset/runs/detect/train3', '/content/drive/MyDrive/yoloV8_dataset/runs/detect/train3/weights', '/content/drive/MyDrive/yoloV8_dataset/runs/detect/train3/weights/last.pt')\n",
        "\n",
        "model = YOLO(model_path)  # load a custom model\n",
        "threshold = 0.5\n",
        "\n",
        "class_name_dict = {0: 'ripe',1: 'unripe' ,2: 'overripe'}\n",
        "\n",
        "for image_file in os.listdir(ripe_images_dir):\n",
        "    image_path = os.path.join(ripe_images_dir, image_file)\n",
        "    output_path = os.path.join(ripe_output_dir, image_file)\n",
        "\n",
        "    image = cv2.imread(image_path)\n",
        "    H, W, _ = image.shape\n",
        "\n",
        "    results = model(image)[0]\n",
        "\n",
        "    for result in results.boxes.data.tolist():\n",
        "        x1, y1, x2, y2, score, class_id = result\n",
        "\n",
        "        if score > threshold:\n",
        "            cv2.rectangle(image, (int(x1), int(y1)), (int(x2), int(y2)), (0, 255, 0), 4)\n",
        "            cv2.putText(image, class_name_dict[int(class_id)].upper(), (int(x1), int(y1 - 10)),\n",
        "                        cv2.FONT_HERSHEY_SIMPLEX, 1.3, (0, 255, 0), 3, cv2.LINE_AA)\n",
        "\n",
        "    cv2.imwrite(output_path, image)\n",
        "\n",
        "cv2.destroyAllWindows()"
      ],
      "metadata": {
        "id": "HuW5NBvyq7IW"
      },
      "execution_count": null,
      "outputs": []
    },
    {
      "cell_type": "markdown",
      "source": [
        "### **For Unripe Apple**"
      ],
      "metadata": {
        "id": "xoF0wVIFVAnC"
      }
    },
    {
      "cell_type": "code",
      "source": [
        "for image_file in os.listdir(unripe_images_dir):\n",
        "    image_path = os.path.join(unripe_images_dir, image_file)\n",
        "    output_path = os.path.join(unripe_output_dir, image_file)\n",
        "\n",
        "    image = cv2.imread(image_path)\n",
        "    H, W, _ = image.shape\n",
        "\n",
        "    results = model(image)[0]\n",
        "    for result in results.boxes.data.tolist():\n",
        "        x1, y1, x2, y2, score, class_id = result\n",
        "\n",
        "        if score > threshold:\n",
        "            cv2.rectangle(image, (int(x1), int(y1)), (int(x2), int(y2)), (0, 255, 0), 4)\n",
        "            cv2.putText(image, class_name_dict[int(class_id)].upper(), (int(x1), int(y1 - 10)),\n",
        "                        cv2.FONT_HERSHEY_SIMPLEX, 1.3, (0, 255, 0), 3, cv2.LINE_AA)\n",
        "\n",
        "    cv2.imwrite(output_path, image)\n",
        "\n",
        "cv2.destroyAllWindows()"
      ],
      "metadata": {
        "id": "P4pyweyIVAKH"
      },
      "execution_count": null,
      "outputs": []
    },
    {
      "cell_type": "markdown",
      "source": [
        "### **For Overripe Apple**"
      ],
      "metadata": {
        "id": "QCzlfWzsWJM7"
      }
    },
    {
      "cell_type": "code",
      "source": [
        "for image_file in os.listdir(overripe_images_dir):\n",
        "    image_path = os.path.join(overripe_images_dir, image_file)\n",
        "    output_path = os.path.join(overripe_output_dir, image_file)\n",
        "\n",
        "    image = cv2.imread(image_path)\n",
        "    H, W, _ = image.shape\n",
        "\n",
        "    results = model(image)[0]\n",
        "    for result in results.boxes.data.tolist():\n",
        "        x1, y1, x2, y2, score, class_id = result\n",
        "\n",
        "        if score > threshold:\n",
        "            cv2.rectangle(image, (int(x1), int(y1)), (int(x2), int(y2)), (0, 255, 0), 4)\n",
        "            cv2.putText(image, class_name_dict[int(class_id)].upper(), (int(x1), int(y1 - 10)),\n",
        "                        cv2.FONT_HERSHEY_SIMPLEX, 1.3, (0, 255, 0), 3, cv2.LINE_AA)\n",
        "\n",
        "    cv2.imwrite(output_path, image)\n",
        "\n",
        "cv2.destroyAllWindows()"
      ],
      "metadata": {
        "id": "G-wTan7KWIpt"
      },
      "execution_count": null,
      "outputs": []
    }
  ],
  "metadata": {
    "colab": {
      "collapsed_sections": [
        "ESdWyeUMYe5D",
        "rtBF_pcNVpWK",
        "VfnGFkFfV14-",
        "l2qlwN0-V2et",
        "-0tddrfAV_0s",
        "LyR5rG9Wn3Mb",
        "tELU9Fd-PLtf",
        "CEMNXjDTFY4B",
        "Ut5zM0tqmRds"
      ],
      "provenance": []
    },
    "kernelspec": {
      "display_name": "Python 3",
      "name": "python3"
    },
    "language_info": {
      "name": "python"
    }
  },
  "nbformat": 4,
  "nbformat_minor": 0
}